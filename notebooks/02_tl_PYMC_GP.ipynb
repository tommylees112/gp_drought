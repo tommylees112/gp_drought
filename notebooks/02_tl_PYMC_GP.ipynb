{
 "cells": [
  {
   "cell_type": "markdown",
   "metadata": {},
   "source": [
    "# PYMC GP Example\n",
    "- From here: [PYMC3 Website](https://docs.pymc.io/notebooks/GP-MaunaLoa.html)\n",
    "- Data link: https://scrippsco2.ucsd.edu/assets/data/atmospheric/stations/zipped_data_sets/mlo_station_data_set.zip\n"
   ]
  },
  {
   "cell_type": "code",
   "execution_count": 30,
   "metadata": {},
   "outputs": [],
   "source": [
    "import pandas as pd\n",
    "import numpy as np\n",
    "from pathlib import Path\n",
    "import os\n",
    "import matplotlib.pyplot as plt\n",
    "import seaborn as sns"
   ]
  },
  {
   "cell_type": "code",
   "execution_count": 31,
   "metadata": {},
   "outputs": [
    {
     "name": "stdout",
     "output_type": "stream",
     "text": [
      "Current Directory:  /Users/tommylees/github/gp_drought\n"
     ]
    }
   ],
   "source": [
    "if Path('.').absolute().parents[0].name == 'gp_drought':\n",
    "    os.chdir(Path('.').absolute().parents[0])\n",
    "\n",
    "data_dir = Path('data')\n",
    "assert data_dir.exists()\n",
    "\n",
    "print(\"Current Directory: \", os.getcwd())"
   ]
  },
  {
   "cell_type": "code",
   "execution_count": 32,
   "metadata": {},
   "outputs": [],
   "source": [
    "import theano.tensor as tt\n",
    "import pymc3 as pm"
   ]
  },
  {
   "cell_type": "markdown",
   "metadata": {},
   "source": [
    "# Clean the data"
   ]
  },
  {
   "cell_type": "code",
   "execution_count": 9,
   "metadata": {},
   "outputs": [
    {
     "data": {
      "text/html": [
       "<div>\n",
       "<style scoped>\n",
       "    .dataframe tbody tr th:only-of-type {\n",
       "        vertical-align: middle;\n",
       "    }\n",
       "\n",
       "    .dataframe tbody tr th {\n",
       "        vertical-align: top;\n",
       "    }\n",
       "\n",
       "    .dataframe thead th {\n",
       "        text-align: right;\n",
       "    }\n",
       "</style>\n",
       "<table border=\"1\" class=\"dataframe\">\n",
       "  <thead>\n",
       "    <tr style=\"text-align: right;\">\n",
       "      <th></th>\n",
       "      <th>CO2</th>\n",
       "      <th>seasonaly_adjusted</th>\n",
       "      <th>fit</th>\n",
       "      <th>seasonally_adjusted_fit</th>\n",
       "      <th>CO2_filled</th>\n",
       "      <th>seasonally_adjusted_filled</th>\n",
       "    </tr>\n",
       "  </thead>\n",
       "  <tbody>\n",
       "    <tr>\n",
       "      <th>1958-03-15</th>\n",
       "      <td>315.70</td>\n",
       "      <td>314.44</td>\n",
       "      <td>316.19</td>\n",
       "      <td>314.91</td>\n",
       "      <td>315.70</td>\n",
       "      <td>314.44</td>\n",
       "    </tr>\n",
       "    <tr>\n",
       "      <th>1958-04-15</th>\n",
       "      <td>317.45</td>\n",
       "      <td>315.16</td>\n",
       "      <td>317.30</td>\n",
       "      <td>314.99</td>\n",
       "      <td>317.45</td>\n",
       "      <td>315.16</td>\n",
       "    </tr>\n",
       "    <tr>\n",
       "      <th>1958-05-15</th>\n",
       "      <td>317.51</td>\n",
       "      <td>314.71</td>\n",
       "      <td>317.86</td>\n",
       "      <td>315.07</td>\n",
       "      <td>317.51</td>\n",
       "      <td>314.71</td>\n",
       "    </tr>\n",
       "    <tr>\n",
       "      <th>1958-07-15</th>\n",
       "      <td>315.86</td>\n",
       "      <td>315.19</td>\n",
       "      <td>315.86</td>\n",
       "      <td>315.22</td>\n",
       "      <td>315.86</td>\n",
       "      <td>315.19</td>\n",
       "    </tr>\n",
       "    <tr>\n",
       "      <th>1958-08-15</th>\n",
       "      <td>314.93</td>\n",
       "      <td>316.19</td>\n",
       "      <td>314.00</td>\n",
       "      <td>315.29</td>\n",
       "      <td>314.93</td>\n",
       "      <td>316.19</td>\n",
       "    </tr>\n",
       "  </tbody>\n",
       "</table>\n",
       "</div>"
      ],
      "text/plain": [
       "               CO2  seasonaly_adjusted     fit  seasonally_adjusted_fit  \\\n",
       "1958-03-15  315.70              314.44  316.19                   314.91   \n",
       "1958-04-15  317.45              315.16  317.30                   314.99   \n",
       "1958-05-15  317.51              314.71  317.86                   315.07   \n",
       "1958-07-15  315.86              315.19  315.86                   315.22   \n",
       "1958-08-15  314.93              316.19  314.00                   315.29   \n",
       "\n",
       "            CO2_filled  seasonally_adjusted_filled  \n",
       "1958-03-15      315.70                      314.44  \n",
       "1958-04-15      317.45                      315.16  \n",
       "1958-05-15      317.51                      314.71  \n",
       "1958-07-15      315.86                      315.19  \n",
       "1958-08-15      314.93                      316.19  "
      ]
     },
     "execution_count": 9,
     "metadata": {},
     "output_type": "execute_result"
    }
   ],
   "source": [
    "data_monthly = pd.read_csv(data_dir / \"mlo/monthly_in_situ_co2_mlo.csv\", header=56)\n",
    "\n",
    "# - replace -99.99 with NaN\n",
    "data_monthly.replace(to_replace=-99.99, value=np.nan, inplace=True)\n",
    "\n",
    "# fix column names\n",
    "cols = [\"year\", \"month\", \"--\", \"--\", \"CO2\", \"seasonaly_adjusted\", \"fit\",\n",
    "        \"seasonally_adjusted_fit\", \"CO2_filled\", \"seasonally_adjusted_filled\"]\n",
    "data_monthly.columns = cols\n",
    "cols.remove(\"--\"); cols.remove(\"--\")\n",
    "data_monthly = data_monthly[cols]\n",
    "\n",
    "# drop rows with nan\n",
    "data_monthly.dropna(inplace=True)\n",
    "\n",
    "# fix time index\n",
    "data_monthly[\"day\"] = 15\n",
    "data_monthly.index = pd.to_datetime(data_monthly[[\"year\", \"month\", \"day\"]])\n",
    "cols.remove(\"year\"); cols.remove(\"month\")\n",
    "data_monthly = data_monthly[cols]\n",
    "\n",
    "data_monthly.head(5)"
   ]
  },
  {
   "cell_type": "code",
   "execution_count": 25,
   "metadata": {},
   "outputs": [
    {
     "data": {
      "text/html": [
       "<div>\n",
       "<style scoped>\n",
       "    .dataframe tbody tr th:only-of-type {\n",
       "        vertical-align: middle;\n",
       "    }\n",
       "\n",
       "    .dataframe tbody tr th {\n",
       "        vertical-align: top;\n",
       "    }\n",
       "\n",
       "    .dataframe thead th {\n",
       "        text-align: right;\n",
       "    }\n",
       "</style>\n",
       "<table border=\"1\" class=\"dataframe\">\n",
       "  <thead>\n",
       "    <tr style=\"text-align: right;\">\n",
       "      <th></th>\n",
       "      <th>CO2</th>\n",
       "      <th>seasonaly_adjusted</th>\n",
       "      <th>fit</th>\n",
       "      <th>seasonally_adjusted_fit</th>\n",
       "      <th>CO2_filled</th>\n",
       "      <th>seasonally_adjusted_filled</th>\n",
       "      <th>t</th>\n",
       "      <th>y_n</th>\n",
       "    </tr>\n",
       "  </thead>\n",
       "  <tbody>\n",
       "    <tr>\n",
       "      <th>1958-03-15</th>\n",
       "      <td>315.70</td>\n",
       "      <td>314.44</td>\n",
       "      <td>316.19</td>\n",
       "      <td>314.91</td>\n",
       "      <td>315.70</td>\n",
       "      <td>314.44</td>\n",
       "      <td>0.000000</td>\n",
       "      <td>0.000000</td>\n",
       "    </tr>\n",
       "    <tr>\n",
       "      <th>1958-04-15</th>\n",
       "      <td>317.45</td>\n",
       "      <td>315.16</td>\n",
       "      <td>317.30</td>\n",
       "      <td>314.99</td>\n",
       "      <td>317.45</td>\n",
       "      <td>315.16</td>\n",
       "      <td>0.084932</td>\n",
       "      <td>0.061830</td>\n",
       "    </tr>\n",
       "    <tr>\n",
       "      <th>1958-05-15</th>\n",
       "      <td>317.51</td>\n",
       "      <td>314.71</td>\n",
       "      <td>317.86</td>\n",
       "      <td>315.07</td>\n",
       "      <td>317.51</td>\n",
       "      <td>314.71</td>\n",
       "      <td>0.167123</td>\n",
       "      <td>0.063950</td>\n",
       "    </tr>\n",
       "    <tr>\n",
       "      <th>1958-07-15</th>\n",
       "      <td>315.86</td>\n",
       "      <td>315.19</td>\n",
       "      <td>315.86</td>\n",
       "      <td>315.22</td>\n",
       "      <td>315.86</td>\n",
       "      <td>315.19</td>\n",
       "      <td>0.334247</td>\n",
       "      <td>0.005653</td>\n",
       "    </tr>\n",
       "    <tr>\n",
       "      <th>1958-08-15</th>\n",
       "      <td>314.93</td>\n",
       "      <td>316.19</td>\n",
       "      <td>314.00</td>\n",
       "      <td>315.29</td>\n",
       "      <td>314.93</td>\n",
       "      <td>316.19</td>\n",
       "      <td>0.419178</td>\n",
       "      <td>-0.027205</td>\n",
       "    </tr>\n",
       "  </tbody>\n",
       "</table>\n",
       "</div>"
      ],
      "text/plain": [
       "               CO2  seasonaly_adjusted     fit  seasonally_adjusted_fit  \\\n",
       "1958-03-15  315.70              314.44  316.19                   314.91   \n",
       "1958-04-15  317.45              315.16  317.30                   314.99   \n",
       "1958-05-15  317.51              314.71  317.86                   315.07   \n",
       "1958-07-15  315.86              315.19  315.86                   315.22   \n",
       "1958-08-15  314.93              316.19  314.00                   315.29   \n",
       "\n",
       "            CO2_filled  seasonally_adjusted_filled         t       y_n  \n",
       "1958-03-15      315.70                      314.44  0.000000  0.000000  \n",
       "1958-04-15      317.45                      315.16  0.084932  0.061830  \n",
       "1958-05-15      317.51                      314.71  0.167123  0.063950  \n",
       "1958-07-15      315.86                      315.19  0.334247  0.005653  \n",
       "1958-08-15      314.93                      316.19  0.419178 -0.027205  "
      ]
     },
     "execution_count": 25,
     "metadata": {},
     "output_type": "execute_result"
    }
   ],
   "source": [
    "# function to convert datetimes to numbers that are useful to algorithms\n",
    "#   this will be useful later when doing prediction\n",
    "\n",
    "def dates_to_idx(timelist):\n",
    "    reference_time = timelist.min()  # pd.to_datetime('1958-03-15')\n",
    "    t = (timelist - reference_time) / pd.Timedelta(365, \"days\")\n",
    "    return np.asarray(t)\n",
    "\n",
    "t = dates_to_idx(data_monthly.index)\n",
    "\n",
    "# normalize CO2 levels\n",
    "y = data_monthly[\"CO2\"].values\n",
    "first_co2 = y[0]\n",
    "std_co2 = np.std(y)\n",
    "y_n = (y - first_co2) / std_co2\n",
    "\n",
    "data_monthly = data_monthly.assign(t = t)\n",
    "data_monthly = data_monthly.assign(y_n = y_n)\n",
    "data_monthly.head()"
   ]
  },
  {
   "cell_type": "markdown",
   "metadata": {},
   "source": [
    "# Train test split (->2004, 2004->)"
   ]
  },
  {
   "cell_type": "code",
   "execution_count": 26,
   "metadata": {},
   "outputs": [],
   "source": [
    "# split into training and test set\n",
    "sep_idx = data_monthly.index.searchsorted(pd.to_datetime(\"2003-12-15\"))\n",
    "\n",
    "data_early = data_monthly.iloc[:sep_idx+1, :]\n",
    "data_later = data_monthly.iloc[sep_idx:, :]\n",
    "\n",
    "data_early = data_monthly.loc[:'2003']\n",
    "data_later = data_monthly.loc['2004':]"
   ]
  },
  {
   "cell_type": "markdown",
   "metadata": {},
   "source": [
    "# Plot the data\n",
    "- 400 ppm level is highlighted with a dashed line\n",
    "- Target: when do we first reach 400ppm? (Answer = March 2013)"
   ]
  },
  {
   "cell_type": "code",
   "execution_count": 27,
   "metadata": {},
   "outputs": [
    {
     "data": {
      "image/png": "[encoded data removed]",
      "text/plain": [
       "<Figure size 432x288 with 1 Axes>"
      ]
     },
     "metadata": {
      "needs_background": "light"
     },
     "output_type": "display_data"
    }
   ],
   "source": [
    "fig, ax = plt.subplots()\n",
    "data_early['CO2'].plot(ax=ax, label='Train')\n",
    "data_later['CO2'].plot(ax=ax, label='Test')\n",
    "\n",
    "ax.axhline(400, color='k', alpha=0.4, ls='--', label='400ppm')\n",
    "\n",
    "ax.set_xlabel('Time')\n",
    "ax.set_ylabel('$CO_2$ concentration (ppm)')\n",
    "ax.set_title('Mauna Loa Observatory')\n",
    "ax.legend()\n",
    "\n",
    "ax.spines['top'].set_visible(False)\n",
    "ax.spines['right'].set_visible(False)"
   ]
  },
  {
   "cell_type": "markdown",
   "metadata": {},
   "source": [
    "# Modelling using GP\n",
    "The R+W model is a sum of three GPs for the signal, and one GP for the noise.\n",
    "\n",
    "1. A *long term smooth rising trend* represented by an **exponentiated quadratic kernel**\n",
    "1. A *periodic term* that decays away from exact periodicity. This is represented by the **product of a Periodic covariance function and an exponentiated quadratic**.\n",
    "1. *Small and medium term irregularities* with a **rational quadratic kernel**.\n",
    "1. The *noise* is modeled as the **sum of an Exponential and a white noise kernel**\n",
    "\n",
    "$$\n",
    "f(t) \\sim \\mathcal{GP}_{\\text{slow}}(0,\\, k_1(t, t')) +\n",
    "          \\mathcal{GP}_{\\text{med}}(0,\\,  k_2(t, t')) +\n",
    "          \\mathcal{GP}_{\\text{per}}(0,\\,  k_3(t, t')) +\n",
    "          \\mathcal{GP}_{\\text{noise}}(0,\\,  k_n(t, t'))\n",
    "$$"
   ]
  },
  {
   "cell_type": "markdown",
   "metadata": {},
   "source": [
    "## Lengthscale + Period Paremeters\n",
    "\n",
    "**ℓ_pdecay**: The periodic decay. The smaller this parameter is, the faster the periodicity goes away. I doubt that the seasonality of the CO2 will be going away any time soon (hopefully), and there’s no evidence for that in the data. Most of the prior mass is from 60 to >140 years.\n",
    "\n",
    "**ℓ_psmooth**: The smoothness of the periodic component. It controls how “sinusoidal” the periodicity is. The plot of the data shows that seasonality is not an exact sine wave, but its not terribly different from one. We use a Gamma whose mode is at one, and doesn’t have too large of a variance, with most of the prior mass from around 0.5 and 2.\n",
    "\n",
    "**period**: The period. We put a very strong prior on 𝑝, the period that is centered at one. R+W fix 𝑝=1, since the period is annual.\n",
    "\n",
    "**ℓ_med**: This is the lengthscale for the short to medium long variations. This prior has most of its mass below 6 years.\n",
    "\n",
    "**α**: This is the shape parameter. This prior is centered at 3, since we’re expecting there to be some more variation than could be explained by an exponentiated quadratic.\n",
    "\n",
    "**ℓ_trend**: The lengthscale of the long term trend. It has a wide prior with mass on a decade scale. Most of the mass is between 10 to 60 years.\n",
    "\n",
    "**ℓ_noise**: The lengthscale of the noise covariance. This noise should be very rapid, in the scale of several months to at most a year or two.\n",
    "\n"
   ]
  },
  {
   "cell_type": "code",
   "execution_count": 56,
   "metadata": {},
   "outputs": [
    {
     "data": {
      "image/png": "[encoded data removed]",
      "text/plain": [
       "<Figure size 432x288 with 1 Axes>"
      ]
     },
     "metadata": {
      "needs_background": "light"
     },
     "output_type": "display_data"
    }
   ],
   "source": [
    "x = np.linspace(0, 150, 5000)\n",
    "priors = [  # [0]=name, [1]=distribution\n",
    "    (\"ℓ_pdecay\",  pm.Gamma.dist(alpha=10, beta=0.075)),\n",
    "    (\"ℓ_psmooth\", pm.Gamma.dist(alpha=4,  beta=3)),\n",
    "    (\"period\",    pm.Normal.dist(mu=1.0,  sigma=0.05)),\n",
    "    (\"ℓ_med\",     pm.Gamma.dist(alpha=2,  beta=0.75)),\n",
    "    (\"α\",         pm.Gamma.dist(alpha=5,  beta=2)),\n",
    "    (\"ℓ_trend\",   pm.Gamma.dist(alpha=4,  beta=0.1)),\n",
    "    (\"ℓ_noise\",   pm.Gamma.dist(alpha=2,  beta=4))]\n",
    "\n",
    "colors = sns.color_palette('Paired', 7)\n",
    "fig, ax = plt.subplots()\n",
    "x_range = (-1, 8)\n",
    "y_range = (0, 2)\n",
    "ax.set_ylabel('Probability')\n",
    "ax.set_xlabel('Years')\n",
    "\n",
    "for i, prior in enumerate(priors):\n",
    "    y = np.exp(prior[1].logp(x).eval())\n",
    "    ax.plot(x, y, label=prior[0],\n",
    "           lw=3, color=colors[i], alpha=1)\n",
    "\n",
    "ax.set_xlim(x_range)\n",
    "ax.set_ylim(y_range)\n",
    "ax.legend()\n",
    "\n",
    "ax.spines['top'].set_visible(False)\n",
    "ax.spines['right'].set_visible(False)"
   ]
  },
  {
   "cell_type": "code",
   "execution_count": 51,
   "metadata": {},
   "outputs": [],
   "source": [
    "dist = pm.Gamma.dist(alpha=10, beta=0.075)\n",
    "# ?dist.logp"
   ]
  },
  {
   "cell_type": "markdown",
   "metadata": {},
   "source": [
    "## scale parameters\n",
    "- all of the scale priors we use distributions that shrink the scale towards zero. \n",
    "- The seasonal component and the long term trend have the least mass near zero\n",
    "\n",
    "**η_per**: Scale of the periodic or seasonal component.\n",
    "\n",
    "**η_med**: Scale of the short to medium term component.\n",
    "\n",
    "**η_trend**: Scale of the long term trend.\n",
    "\n",
    "**σ**: Scale of the white noise.\n",
    "\n",
    "**η_noise**: Scale of correlated, short term noise.\n",
    "\n"
   ]
  },
  {
   "cell_type": "code",
   "execution_count": 57,
   "metadata": {},
   "outputs": [
    {
     "data": {
      "image/png": "[encoded data removed]",
      "text/plain": [
       "<Figure size 432x288 with 1 Axes>"
      ]
     },
     "metadata": {
      "needs_background": "light"
     },
     "output_type": "display_data"
    }
   ],
   "source": [
    "x = np.linspace(0, 4, 5000)\n",
    "priors = [\n",
    "    (\"η_per\",   pm.HalfCauchy.dist(beta=2)),\n",
    "    (\"η_med\",   pm.HalfCauchy.dist(beta=1.0)),\n",
    "    (\"η_trend\", pm.HalfCauchy.dist(beta=3)), # will use beta=2, but 2.2 is visible on plot\n",
    "    (\"σ\",       pm.HalfNormal.dist(sigma=0.25)),\n",
    "    (\"η_noise\", pm.HalfNormal.dist(sigma=0.5))]\n",
    "\n",
    "colors = sns.color_palette('Paired', 5)\n",
    "fig, ax = plt.subplots()\n",
    "ax.set_ylabel('Probability')\n",
    "ax.set_xlabel('Years')\n",
    "\n",
    "for i, prior in enumerate(priors):\n",
    "    y = np.exp(prior[1].logp(x).eval())\n",
    "    ax.plot(x, y, label=prior[0],\n",
    "           lw=3, color=colors[i])\n",
    "\n",
    "ax.legend()\n",
    "\n",
    "ax.spines['top'].set_visible(False)\n",
    "ax.spines['right'].set_visible(False)"
   ]
  },
  {
   "cell_type": "markdown",
   "metadata": {},
   "source": [
    "# PYMC Model"
   ]
  },
  {
   "cell_type": "code",
   "execution_count": 58,
   "metadata": {},
   "outputs": [
    {
     "data": {
      "image/png": "[encoded data removed]",
      "text/plain": [
       "<Figure size 432x288 with 1 Axes>"
      ]
     },
     "metadata": {
      "needs_background": "light"
     },
     "output_type": "display_data"
    }
   ],
   "source": [
    "# pull out normalized data\n",
    "t = data_early[\"t\"].values[:,None]\n",
    "y = data_early[\"y_n\"].values\n",
    "\n",
    "fig, ax = plt.subplots()\n",
    "ax.plot(t, y);\n",
    "\n",
    "ax.set_xlabel('Time')\n",
    "ax.set_ylabel('Normalised $CO_2$ concentration')\n",
    "ax.set_title('Mauna Loa Observatory')\n",
    "\n",
    "ax.spines['top'].set_visible(False)\n",
    "ax.spines['right'].set_visible(False)"
   ]
  },
  {
   "cell_type": "code",
   "execution_count": null,
   "metadata": {},
   "outputs": [
    {
     "name": "stderr",
     "output_type": "stream",
     "text": [
      "logp = 971.4, ||grad|| = 471.46:   0%|          | 3/5000 [00:00<24:41,  3.37it/s]"
     ]
    }
   ],
   "source": [
    "def init_GP_seasonal():\n",
    "    \"\"\"\n",
    "    Covariance: \n",
    "    - period_scale**2 * Periodic(periodic_smoothness) * Matern(periodic_decay)\n",
    "    \"\"\"\n",
    "    # yearly periodic component x long term trend\n",
    "    η_per = pm.HalfCauchy(\"η_per\", beta=2, testval=1.0)\n",
    "    ℓ_pdecay = pm.Gamma(\"ℓ_pdecay\", alpha=10, beta=0.075)\n",
    "    period  = pm.Normal(\"period\", mu=1, sigma=0.05)\n",
    "    ℓ_psmooth = pm.Gamma(\"ℓ_psmooth \", alpha=4, beta=3)\n",
    "    cov_seasonal = η_per**2 * pm.gp.cov.Periodic(1, period, ℓ_psmooth) * pm.gp.cov.Matern52(1, ℓ_pdecay)\n",
    "    gp_seasonal = pm.gp.Marginal(cov_func=cov_seasonal)\n",
    "\n",
    "    return gp_seasonal\n",
    "    \n",
    "\n",
    "def init_GP_trend():\n",
    "    \"\"\"\n",
    "    Covariance: \n",
    "    - trend_scale**2 * Exponential(trend_lengthscale)\n",
    "    \"\"\"\n",
    "    # long term trend\n",
    "    η_trend = pm.HalfCauchy(\"η_trend\", beta=2, testval=2.0)\n",
    "    ℓ_trend = pm.Gamma(\"ℓ_trend\", alpha=4, beta=0.1)\n",
    "    cov_trend = η_trend**2 * pm.gp.cov.ExpQuad(1, ℓ_trend)\n",
    "    gp_trend = pm.gp.Marginal(cov_func=cov_trend)\n",
    "\n",
    "    return gp_trend\n",
    "    \n",
    "\n",
    "def init_GP_medium():\n",
    "    \"\"\"\n",
    "    Covariance: \n",
    "    - medium_scale**2 *RationalQuadratic(lengthscale, shape)\n",
    "    \"\"\"\n",
    "    # small/medium term irregularities\n",
    "    η_med = pm.HalfCauchy(\"η_med\", beta=0.5, testval=0.1)\n",
    "    ℓ_med = pm.Gamma(\"ℓ_med\", alpha=2, beta=0.75)\n",
    "    α = pm.Gamma(\"α\", alpha=5, beta=2)\n",
    "    cov_medium = η_med**2 * pm.gp.cov.RatQuad(1, ℓ_med, α)\n",
    "    gp_medium = pm.gp.Marginal(cov_func=cov_medium)\n",
    "    \n",
    "    return gp_medium\n",
    "    \n",
    "\n",
    "def init_noise():\n",
    "    \"\"\"\n",
    "    Covariance: \n",
    "    - noise_scale**2 * Matern32(noise_lengthscale) + WhiteNoise(noise_scale)\n",
    "    \"\"\"\n",
    "    # noise model\n",
    "    η_noise = pm.HalfNormal(\"η_noise\", sigma=0.5, testval=0.05)\n",
    "    ℓ_noise = pm.Gamma(\"ℓ_noise\", alpha=2, beta=4)\n",
    "    σ = pm.HalfNormal(\"σ\",  sigma=0.25, testval=0.05)\n",
    "    cov_noise = η_noise**2 * pm.gp.cov.Matern32(1, ℓ_noise) + pm.gp.cov.WhiteNoise(σ)\n",
    "\n",
    "    return cov_noise\n",
    "    \n",
    "\n",
    "with pm.Model() as model:\n",
    "    gp_seasonal = init_GP_seasonal()\n",
    "    gp_trend = init_GP_trend()\n",
    "    gp_medium = init_GP_medium()\n",
    "\n",
    "    # The Gaussian process is a sum of these three components\n",
    "    gp = gp_seasonal + gp_medium + gp_trend\n",
    "\n",
    "    # Since the normal noise model and the GP are conjugates, we use `Marginal` with the `.marginal_likelihood` method\n",
    "    cov_noise = init_noise()\n",
    "    y_ = gp.marginal_likelihood(\"y\", X=t, y=y, noise=cov_noise)\n",
    "\n",
    "    # this line calls an optimizer to find the MAP\n",
    "    mp = pm.find_MAP(include_transformed=True)"
   ]
  },
  {
   "cell_type": "code",
   "execution_count": null,
   "metadata": {},
   "outputs": [],
   "source": [
    "mp"
   ]
  },
  {
   "cell_type": "code",
   "execution_count": null,
   "metadata": {},
   "outputs": [],
   "source": []
  },
  {
   "cell_type": "markdown",
   "metadata": {},
   "source": [
    "# Why GPs?\n",
    "- finding an unknown variable in the space of continuous functions\n",
    "- draw from a multivariate normal distribution that is parameterized by the mean function, 𝑚(𝑥), and the covariance function, 𝑘(𝑥,𝑥′)\n",
    "- "
   ]
  },
  {
   "cell_type": "code",
   "execution_count": null,
   "metadata": {},
   "outputs": [],
   "source": []
  }
 ],
 "metadata": {
  "kernelspec": {
   "display_name": "TEST",
   "language": "python",
   "name": "test"
  },
  "language_info": {
   "codemirror_mode": {
    "name": "ipython",
    "version": 3
   },
   "file_extension": ".py",
   "mimetype": "text/x-python",
   "name": "python",
   "nbconvert_exporter": "python",
   "pygments_lexer": "ipython3",
   "version": "3.7.3"
  }
 },
 "nbformat": 4,
 "nbformat_minor": 2
}
