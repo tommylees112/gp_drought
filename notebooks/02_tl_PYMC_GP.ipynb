{
 "cells": [
  {
   "cell_type": "markdown",
   "metadata": {},
   "source": [
    "# PYMC GP Example\n",
    "- From here: [PYMC3 Website](https://docs.pymc.io/notebooks/GP-MaunaLoa.html)\n",
    "- Data link: https://scrippsco2.ucsd.edu/assets/data/atmospheric/stations/zipped_data_sets/mlo_station_data_set.zip\n",
    "\n",
    "download data\n",
    "```bash\n",
    "mkdir mlo\n",
    "cd mlo\n",
    "wget https://scrippsco2.ucsd.edu/assets/data/atmospheric/stations/zipped_data_sets/mlo_station_data_set.zip\n",
    "unzip mlo_station_data_set.zip\n",
    "```"
   ]
  },
  {
   "cell_type": "code",
   "execution_count": 30,
   "metadata": {},
   "outputs": [],
   "source": [
    "import pandas as pd\n",
    "import numpy as np\n",
    "from pathlib import Path\n",
    "import os\n",
    "import matplotlib.pyplot as plt\n",
    "import seaborn as sns"
   ]
  },
  {
   "cell_type": "code",
   "execution_count": 31,
   "metadata": {},
   "outputs": [
    {
     "name": "stdout",
     "output_type": "stream",
     "text": [
      "Current Directory:  /Users/tommylees/github/gp_drought\n"
     ]
    }
   ],
   "source": [
    "if Path('.').absolute().parents[0].name == 'gp_drought':\n",
    "    os.chdir(Path('.').absolute().parents[0])\n",
    "\n",
    "data_dir = Path('data')\n",
    "assert data_dir.exists()\n",
    "\n",
    "print(\"Current Directory: \", os.getcwd())"
   ]
  },
  {
   "cell_type": "code",
   "execution_count": 32,
   "metadata": {},
   "outputs": [],
   "source": [
    "import theano.tensor as tt\n",
    "import pymc3 as pm"
   ]
  },
  {
   "cell_type": "markdown",
   "metadata": {},
   "source": [
    "# Clean the data"
   ]
  },
  {
   "cell_type": "code",
   "execution_count": 9,
   "metadata": {},
   "outputs": [
    {
     "data": {
      "text/html": [
       "<div>\n",
       "<style scoped>\n",
       "    .dataframe tbody tr th:only-of-type {\n",
       "        vertical-align: middle;\n",
       "    }\n",
       "\n",
       "    .dataframe tbody tr th {\n",
       "        vertical-align: top;\n",
       "    }\n",
       "\n",
       "    .dataframe thead th {\n",
       "        text-align: right;\n",
       "    }\n",
       "</style>\n",
       "<table border=\"1\" class=\"dataframe\">\n",
       "  <thead>\n",
       "    <tr style=\"text-align: right;\">\n",
       "      <th></th>\n",
       "      <th>CO2</th>\n",
       "      <th>seasonaly_adjusted</th>\n",
       "      <th>fit</th>\n",
       "      <th>seasonally_adjusted_fit</th>\n",
       "      <th>CO2_filled</th>\n",
       "      <th>seasonally_adjusted_filled</th>\n",
       "    </tr>\n",
       "  </thead>\n",
       "  <tbody>\n",
       "    <tr>\n",
       "      <th>1958-03-15</th>\n",
       "      <td>315.70</td>\n",
       "      <td>314.44</td>\n",
       "      <td>316.19</td>\n",
       "      <td>314.91</td>\n",
       "      <td>315.70</td>\n",
       "      <td>314.44</td>\n",
       "    </tr>\n",
       "    <tr>\n",
       "      <th>1958-04-15</th>\n",
       "      <td>317.45</td>\n",
       "      <td>315.16</td>\n",
       "      <td>317.30</td>\n",
       "      <td>314.99</td>\n",
       "      <td>317.45</td>\n",
       "      <td>315.16</td>\n",
       "    </tr>\n",
       "    <tr>\n",
       "      <th>1958-05-15</th>\n",
       "      <td>317.51</td>\n",
       "      <td>314.71</td>\n",
       "      <td>317.86</td>\n",
       "      <td>315.07</td>\n",
       "      <td>317.51</td>\n",
       "      <td>314.71</td>\n",
       "    </tr>\n",
       "    <tr>\n",
       "      <th>1958-07-15</th>\n",
       "      <td>315.86</td>\n",
       "      <td>315.19</td>\n",
       "      <td>315.86</td>\n",
       "      <td>315.22</td>\n",
       "      <td>315.86</td>\n",
       "      <td>315.19</td>\n",
       "    </tr>\n",
       "    <tr>\n",
       "      <th>1958-08-15</th>\n",
       "      <td>314.93</td>\n",
       "      <td>316.19</td>\n",
       "      <td>314.00</td>\n",
       "      <td>315.29</td>\n",
       "      <td>314.93</td>\n",
       "      <td>316.19</td>\n",
       "    </tr>\n",
       "  </tbody>\n",
       "</table>\n",
       "</div>"
      ],
      "text/plain": [
       "               CO2  seasonaly_adjusted     fit  seasonally_adjusted_fit  \\\n",
       "1958-03-15  315.70              314.44  316.19                   314.91   \n",
       "1958-04-15  317.45              315.16  317.30                   314.99   \n",
       "1958-05-15  317.51              314.71  317.86                   315.07   \n",
       "1958-07-15  315.86              315.19  315.86                   315.22   \n",
       "1958-08-15  314.93              316.19  314.00                   315.29   \n",
       "\n",
       "            CO2_filled  seasonally_adjusted_filled  \n",
       "1958-03-15      315.70                      314.44  \n",
       "1958-04-15      317.45                      315.16  \n",
       "1958-05-15      317.51                      314.71  \n",
       "1958-07-15      315.86                      315.19  \n",
       "1958-08-15      314.93                      316.19  "
      ]
     },
     "execution_count": 9,
     "metadata": {},
     "output_type": "execute_result"
    }
   ],
   "source": [
    "data_monthly = pd.read_csv(data_dir / \"mlo/monthly_in_situ_co2_mlo.csv\", header=56)\n",
    "\n",
    "# - replace -99.99 with NaN\n",
    "data_monthly.replace(to_replace=-99.99, value=np.nan, inplace=True)\n",
    "\n",
    "# fix column names\n",
    "cols = [\"year\", \"month\", \"--\", \"--\", \"CO2\", \"seasonaly_adjusted\", \"fit\",\n",
    "        \"seasonally_adjusted_fit\", \"CO2_filled\", \"seasonally_adjusted_filled\"]\n",
    "data_monthly.columns = cols\n",
    "cols.remove(\"--\"); cols.remove(\"--\")\n",
    "data_monthly = data_monthly[cols]\n",
    "\n",
    "# drop rows with nan\n",
    "data_monthly.dropna(inplace=True)\n",
    "\n",
    "# fix time index\n",
    "data_monthly[\"day\"] = 15\n",
    "data_monthly.index = pd.to_datetime(data_monthly[[\"year\", \"month\", \"day\"]])\n",
    "cols.remove(\"year\"); cols.remove(\"month\")\n",
    "data_monthly = data_monthly[cols]\n",
    "\n",
    "data_monthly.head(5)"
   ]
  },
  {
   "cell_type": "code",
   "execution_count": 98,
   "metadata": {},
   "outputs": [
    {
     "data": {
      "text/html": [
       "<div>\n",
       "<style scoped>\n",
       "    .dataframe tbody tr th:only-of-type {\n",
       "        vertical-align: middle;\n",
       "    }\n",
       "\n",
       "    .dataframe tbody tr th {\n",
       "        vertical-align: top;\n",
       "    }\n",
       "\n",
       "    .dataframe thead th {\n",
       "        text-align: right;\n",
       "    }\n",
       "</style>\n",
       "<table border=\"1\" class=\"dataframe\">\n",
       "  <thead>\n",
       "    <tr style=\"text-align: right;\">\n",
       "      <th></th>\n",
       "      <th>CO2</th>\n",
       "      <th>seasonaly_adjusted</th>\n",
       "      <th>fit</th>\n",
       "      <th>seasonally_adjusted_fit</th>\n",
       "      <th>CO2_filled</th>\n",
       "      <th>seasonally_adjusted_filled</th>\n",
       "      <th>t</th>\n",
       "      <th>y_n</th>\n",
       "    </tr>\n",
       "  </thead>\n",
       "  <tbody>\n",
       "    <tr>\n",
       "      <th>1958-03-15</th>\n",
       "      <td>315.70</td>\n",
       "      <td>314.44</td>\n",
       "      <td>316.19</td>\n",
       "      <td>314.91</td>\n",
       "      <td>315.70</td>\n",
       "      <td>314.44</td>\n",
       "      <td>0.000000</td>\n",
       "      <td>0.000000</td>\n",
       "    </tr>\n",
       "    <tr>\n",
       "      <th>1958-04-15</th>\n",
       "      <td>317.45</td>\n",
       "      <td>315.16</td>\n",
       "      <td>317.30</td>\n",
       "      <td>314.99</td>\n",
       "      <td>317.45</td>\n",
       "      <td>315.16</td>\n",
       "      <td>0.084932</td>\n",
       "      <td>0.061830</td>\n",
       "    </tr>\n",
       "    <tr>\n",
       "      <th>1958-05-15</th>\n",
       "      <td>317.51</td>\n",
       "      <td>314.71</td>\n",
       "      <td>317.86</td>\n",
       "      <td>315.07</td>\n",
       "      <td>317.51</td>\n",
       "      <td>314.71</td>\n",
       "      <td>0.167123</td>\n",
       "      <td>0.063950</td>\n",
       "    </tr>\n",
       "    <tr>\n",
       "      <th>1958-07-15</th>\n",
       "      <td>315.86</td>\n",
       "      <td>315.19</td>\n",
       "      <td>315.86</td>\n",
       "      <td>315.22</td>\n",
       "      <td>315.86</td>\n",
       "      <td>315.19</td>\n",
       "      <td>0.334247</td>\n",
       "      <td>0.005653</td>\n",
       "    </tr>\n",
       "    <tr>\n",
       "      <th>1958-08-15</th>\n",
       "      <td>314.93</td>\n",
       "      <td>316.19</td>\n",
       "      <td>314.00</td>\n",
       "      <td>315.29</td>\n",
       "      <td>314.93</td>\n",
       "      <td>316.19</td>\n",
       "      <td>0.419178</td>\n",
       "      <td>-0.027205</td>\n",
       "    </tr>\n",
       "  </tbody>\n",
       "</table>\n",
       "</div>"
      ],
      "text/plain": [
       "               CO2  seasonaly_adjusted     fit  seasonally_adjusted_fit  \\\n",
       "1958-03-15  315.70              314.44  316.19                   314.91   \n",
       "1958-04-15  317.45              315.16  317.30                   314.99   \n",
       "1958-05-15  317.51              314.71  317.86                   315.07   \n",
       "1958-07-15  315.86              315.19  315.86                   315.22   \n",
       "1958-08-15  314.93              316.19  314.00                   315.29   \n",
       "\n",
       "            CO2_filled  seasonally_adjusted_filled         t       y_n  \n",
       "1958-03-15      315.70                      314.44  0.000000  0.000000  \n",
       "1958-04-15      317.45                      315.16  0.084932  0.061830  \n",
       "1958-05-15      317.51                      314.71  0.167123  0.063950  \n",
       "1958-07-15      315.86                      315.19  0.334247  0.005653  \n",
       "1958-08-15      314.93                      316.19  0.419178 -0.027205  "
      ]
     },
     "execution_count": 98,
     "metadata": {},
     "output_type": "execute_result"
    }
   ],
   "source": [
    "# function to convert datetimes to numbers that are useful to algorithms\n",
    "#   this will be useful later when doing prediction\n",
    "\n",
    "def dates_to_idx(timelist):\n",
    "    reference_time = pd.to_datetime('1958-03-15')\n",
    "    t = (timelist - reference_time) / pd.Timedelta(365, \"days\")\n",
    "    return np.asarray(t)\n",
    "\n",
    "t = dates_to_idx(data_monthly.index)\n",
    "\n",
    "# normalize CO2 levels\n",
    "y = data_monthly[\"CO2\"].values\n",
    "first_co2 = y[0]\n",
    "std_co2 = np.std(y)\n",
    "y_n = (y - first_co2) / std_co2\n",
    "\n",
    "data_monthly = data_monthly.assign(t = t)\n",
    "data_monthly = data_monthly.assign(y_n = y_n)\n",
    "data_monthly.head()"
   ]
  },
  {
   "cell_type": "markdown",
   "metadata": {},
   "source": [
    "# Train test split (->2004, 2004->)"
   ]
  },
  {
   "cell_type": "code",
   "execution_count": 26,
   "metadata": {},
   "outputs": [],
   "source": [
    "# split into training and test set\n",
    "sep_idx = data_monthly.index.searchsorted(pd.to_datetime(\"2003-12-15\"))\n",
    "\n",
    "data_early = data_monthly.iloc[:sep_idx+1, :]\n",
    "data_later = data_monthly.iloc[sep_idx:, :]\n",
    "\n",
    "data_early = data_monthly.loc[:'2003']\n",
    "data_later = data_monthly.loc['2004':]"
   ]
  },
  {
   "cell_type": "markdown",
   "metadata": {},
   "source": [
    "# Plot the data\n",
    "- 400 ppm level is highlighted with a dashed line\n",
    "- Target: when do we first reach 400ppm? (Answer = March 2013)"
   ]
  },
  {
   "cell_type": "code",
   "execution_count": 27,
   "metadata": {},
   "outputs": [
    {
     "data": {
      "image/png": "[encoded data removed]",
      "text/plain": [
       "<Figure size 432x288 with 1 Axes>"
      ]
     },
     "metadata": {
      "needs_background": "light"
     },
     "output_type": "display_data"
    }
   ],
   "source": [
    "fig, ax = plt.subplots()\n",
    "data_early['CO2'].plot(ax=ax, label='Train')\n",
    "data_later['CO2'].plot(ax=ax, label='Test')\n",
    "\n",
    "ax.axhline(400, color='k', alpha=0.4, ls='--', label='400ppm')\n",
    "\n",
    "ax.set_xlabel('Time')\n",
    "ax.set_ylabel('$CO_2$ concentration (ppm)')\n",
    "ax.set_title('Mauna Loa Observatory')\n",
    "ax.legend()\n",
    "\n",
    "ax.spines['top'].set_visible(False)\n",
    "ax.spines['right'].set_visible(False)"
   ]
  },
  {
   "cell_type": "markdown",
   "metadata": {},
   "source": [
    "# Modelling using GP\n",
    "The R+W model is a sum of three GPs for the signal, and one GP for the noise.\n",
    "\n",
    "1. A *long term smooth rising trend* represented by an **exponentiated quadratic kernel**\n",
    "1. A *periodic term* that decays away from exact periodicity. This is represented by the **product of a Periodic covariance function and an exponentiated quadratic**.\n",
    "1. *Small and medium term irregularities* with a **rational quadratic kernel**.\n",
    "1. The *noise* is modeled as the **sum of an Exponential and a white noise kernel**\n",
    "\n",
    "$$\n",
    "f(t) \\sim \\mathcal{GP}_{\\text{slow}}(0,\\, k_1(t, t')) +\n",
    "          \\mathcal{GP}_{\\text{med}}(0,\\,  k_2(t, t')) +\n",
    "          \\mathcal{GP}_{\\text{per}}(0,\\,  k_3(t, t')) +\n",
    "          \\mathcal{GP}_{\\text{noise}}(0,\\,  k_n(t, t'))\n",
    "$$"
   ]
  },
  {
   "cell_type": "markdown",
   "metadata": {},
   "source": [
    "## Lengthscale + Period Paremeters\n",
    "\n",
    "**ℓ_pdecay**: The periodic decay. The smaller this parameter is, the faster the periodicity goes away. I doubt that the seasonality of the CO2 will be going away any time soon (hopefully), and there’s no evidence for that in the data. Most of the prior mass is from 60 to >140 years.\n",
    "\n",
    "**ℓ_psmooth**: The smoothness of the periodic component. It controls how “sinusoidal” the periodicity is. The plot of the data shows that seasonality is not an exact sine wave, but its not terribly different from one. We use a Gamma whose mode is at one, and doesn’t have too large of a variance, with most of the prior mass from around 0.5 and 2.\n",
    "\n",
    "**period**: The period. We put a very strong prior on 𝑝, the period that is centered at one. R+W fix 𝑝=1, since the period is annual.\n",
    "\n",
    "**ℓ_med**: This is the lengthscale for the short to medium long variations. This prior has most of its mass below 6 years.\n",
    "\n",
    "**α**: This is the shape parameter. This prior is centered at 3, since we’re expecting there to be some more variation than could be explained by an exponentiated quadratic.\n",
    "\n",
    "**ℓ_trend**: The lengthscale of the long term trend. It has a wide prior with mass on a decade scale. Most of the mass is between 10 to 60 years.\n",
    "\n",
    "**ℓ_noise**: The lengthscale of the noise covariance. This noise should be very rapid, in the scale of several months to at most a year or two.\n",
    "\n"
   ]
  },
  {
   "cell_type": "code",
   "execution_count": 56,
   "metadata": {},
   "outputs": [
    {
     "data": {
      "image/png": "[encoded data removed]",
      "text/plain": [
       "<Figure size 432x288 with 1 Axes>"
      ]
     },
     "metadata": {
      "needs_background": "light"
     },
     "output_type": "display_data"
    }
   ],
   "source": [
    "x = np.linspace(0, 150, 5000)\n",
    "priors = [  # [0]=name, [1]=distribution\n",
    "    (\"ℓ_pdecay\",  pm.Gamma.dist(alpha=10, beta=0.075)),\n",
    "    (\"ℓ_psmooth\", pm.Gamma.dist(alpha=4,  beta=3)),\n",
    "    (\"period\",    pm.Normal.dist(mu=1.0,  sigma=0.05)),\n",
    "    (\"ℓ_med\",     pm.Gamma.dist(alpha=2,  beta=0.75)),\n",
    "    (\"α\",         pm.Gamma.dist(alpha=5,  beta=2)),\n",
    "    (\"ℓ_trend\",   pm.Gamma.dist(alpha=4,  beta=0.1)),\n",
    "    (\"ℓ_noise\",   pm.Gamma.dist(alpha=2,  beta=4))]\n",
    "\n",
    "colors = sns.color_palette('Paired', 7)\n",
    "fig, ax = plt.subplots()\n",
    "x_range = (-1, 8)\n",
    "y_range = (0, 2)\n",
    "ax.set_ylabel('Probability')\n",
    "ax.set_xlabel('Years')\n",
    "\n",
    "for i, prior in enumerate(priors):\n",
    "    y = np.exp(prior[1].logp(x).eval())\n",
    "    ax.plot(x, y, label=prior[0],\n",
    "           lw=3, color=colors[i], alpha=1)\n",
    "\n",
    "ax.set_xlim(x_range)\n",
    "ax.set_ylim(y_range)\n",
    "ax.legend()\n",
    "\n",
    "ax.spines['top'].set_visible(False)\n",
    "ax.spines['right'].set_visible(False)"
   ]
  },
  {
   "cell_type": "code",
   "execution_count": 51,
   "metadata": {},
   "outputs": [],
   "source": [
    "dist = pm.Gamma.dist(alpha=10, beta=0.075)\n",
    "# ?dist.logp"
   ]
  },
  {
   "cell_type": "markdown",
   "metadata": {},
   "source": [
    "## scale parameters\n",
    "- all of the scale priors we use distributions that shrink the scale towards zero. \n",
    "- The seasonal component and the long term trend have the least mass near zero\n",
    "\n",
    "**η_per**: Scale of the periodic or seasonal component.\n",
    "\n",
    "**η_med**: Scale of the short to medium term component.\n",
    "\n",
    "**η_trend**: Scale of the long term trend.\n",
    "\n",
    "**σ**: Scale of the white noise.\n",
    "\n",
    "**η_noise**: Scale of correlated, short term noise.\n",
    "\n"
   ]
  },
  {
   "cell_type": "code",
   "execution_count": 57,
   "metadata": {},
   "outputs": [
    {
     "data": {
      "image/png": "[encoded data removed]",
      "text/plain": [
       "<Figure size 432x288 with 1 Axes>"
      ]
     },
     "metadata": {
      "needs_background": "light"
     },
     "output_type": "display_data"
    }
   ],
   "source": [
    "x = np.linspace(0, 4, 5000)\n",
    "priors = [\n",
    "    (\"η_per\",   pm.HalfCauchy.dist(beta=2)),\n",
    "    (\"η_med\",   pm.HalfCauchy.dist(beta=1.0)),\n",
    "    (\"η_trend\", pm.HalfCauchy.dist(beta=3)), # will use beta=2, but 2.2 is visible on plot\n",
    "    (\"σ\",       pm.HalfNormal.dist(sigma=0.25)),\n",
    "    (\"η_noise\", pm.HalfNormal.dist(sigma=0.5))]\n",
    "\n",
    "colors = sns.color_palette('Paired', 5)\n",
    "fig, ax = plt.subplots()\n",
    "ax.set_ylabel('Probability')\n",
    "ax.set_xlabel('Years')\n",
    "\n",
    "for i, prior in enumerate(priors):\n",
    "    y = np.exp(prior[1].logp(x).eval())\n",
    "    ax.plot(x, y, label=prior[0],\n",
    "           lw=3, color=colors[i])\n",
    "\n",
    "ax.legend()\n",
    "\n",
    "ax.spines['top'].set_visible(False)\n",
    "ax.spines['right'].set_visible(False)"
   ]
  },
  {
   "cell_type": "markdown",
   "metadata": {},
   "source": [
    "# PYMC Model"
   ]
  },
  {
   "cell_type": "code",
   "execution_count": 58,
   "metadata": {},
   "outputs": [
    {
     "data": {
      "image/png": "[encoded data removed]",
      "text/plain": [
       "<Figure size 432x288 with 1 Axes>"
      ]
     },
     "metadata": {
      "needs_background": "light"
     },
     "output_type": "display_data"
    }
   ],
   "source": [
    "# pull out normalized data\n",
    "t = data_early[\"t\"].values[:,None]\n",
    "y = data_early[\"y_n\"].values\n",
    "\n",
    "fig, ax = plt.subplots()\n",
    "ax.plot(t, y);\n",
    "\n",
    "ax.set_xlabel('Time')\n",
    "ax.set_ylabel('Normalised $CO_2$ concentration')\n",
    "ax.set_title('Mauna Loa Observatory')\n",
    "\n",
    "ax.spines['top'].set_visible(False)\n",
    "ax.spines['right'].set_visible(False)"
   ]
  },
  {
   "cell_type": "code",
   "execution_count": 61,
   "metadata": {},
   "outputs": [
    {
     "name": "stderr",
     "output_type": "stream",
     "text": [
      "logp = 1,703.7, ||grad|| = 667.88: 100%|██████████| 307/307 [01:33<00:00,  3.28it/s] \n"
     ]
    }
   ],
   "source": [
    "def init_GP_seasonal():\n",
    "    \"\"\"\n",
    "    Covariance: \n",
    "    - period_scale**2 * Periodic(periodic_smoothness) * Matern(periodic_decay)\n",
    "    \"\"\"\n",
    "    # yearly periodic component x long term trend\n",
    "    η_per = pm.HalfCauchy(\"η_per\", beta=2, testval=1.0)\n",
    "    ℓ_pdecay = pm.Gamma(\"ℓ_pdecay\", alpha=10, beta=0.075)\n",
    "    period  = pm.Normal(\"period\", mu=1, sigma=0.05)\n",
    "    ℓ_psmooth = pm.Gamma(\"ℓ_psmooth \", alpha=4, beta=3)\n",
    "    cov_seasonal = η_per**2 * pm.gp.cov.Periodic(1, period, ℓ_psmooth) * pm.gp.cov.Matern52(1, ℓ_pdecay)\n",
    "    gp_seasonal = pm.gp.Marginal(cov_func=cov_seasonal)\n",
    "\n",
    "    return gp_seasonal\n",
    "    \n",
    "\n",
    "def init_GP_trend():\n",
    "    \"\"\"\n",
    "    Covariance: \n",
    "    - trend_scale**2 * Exponential(trend_lengthscale)\n",
    "    \"\"\"\n",
    "    # long term trend\n",
    "    η_trend = pm.HalfCauchy(\"η_trend\", beta=2, testval=2.0)\n",
    "    ℓ_trend = pm.Gamma(\"ℓ_trend\", alpha=4, beta=0.1)\n",
    "    cov_trend = η_trend**2 * pm.gp.cov.ExpQuad(1, ℓ_trend)\n",
    "    gp_trend = pm.gp.Marginal(cov_func=cov_trend)\n",
    "\n",
    "    return gp_trend\n",
    "    \n",
    "\n",
    "def init_GP_medium():\n",
    "    \"\"\"\n",
    "    Covariance: \n",
    "    - medium_scale**2 *RationalQuadratic(lengthscale, shape)\n",
    "    \"\"\"\n",
    "    # small/medium term irregularities\n",
    "    η_med = pm.HalfCauchy(\"η_med\", beta=0.5, testval=0.1)\n",
    "    ℓ_med = pm.Gamma(\"ℓ_med\", alpha=2, beta=0.75)\n",
    "    α = pm.Gamma(\"α\", alpha=5, beta=2)\n",
    "    cov_medium = η_med**2 * pm.gp.cov.RatQuad(1, ℓ_med, α)\n",
    "    gp_medium = pm.gp.Marginal(cov_func=cov_medium)\n",
    "    \n",
    "    return gp_medium\n",
    "    \n",
    "\n",
    "def init_noise():\n",
    "    \"\"\"\n",
    "    Covariance: \n",
    "    - noise_scale**2 * Matern32(noise_lengthscale) + WhiteNoise(noise_scale)\n",
    "    \"\"\"\n",
    "    # noise model\n",
    "    η_noise = pm.HalfNormal(\"η_noise\", sigma=0.5, testval=0.05)\n",
    "    ℓ_noise = pm.Gamma(\"ℓ_noise\", alpha=2, beta=4)\n",
    "    σ = pm.HalfNormal(\"σ\",  sigma=0.25, testval=0.05)\n",
    "    cov_noise = η_noise**2 * pm.gp.cov.Matern32(1, ℓ_noise) + pm.gp.cov.WhiteNoise(σ)\n",
    "\n",
    "    return cov_noise\n",
    "    \n",
    "\n",
    "with pm.Model() as model:\n",
    "    gp_seasonal = init_GP_seasonal()\n",
    "    gp_trend = init_GP_trend()\n",
    "    gp_medium = init_GP_medium()\n",
    "\n",
    "    # The Gaussian process is a sum of these three components\n",
    "    gp = gp_seasonal + gp_medium + gp_trend\n",
    "\n",
    "    # Since the normal noise model and the GP are conjugates, we use `Marginal` with the `.marginal_likelihood` method\n",
    "    cov_noise = init_noise()\n",
    "    y_ = gp.marginal_likelihood(\"y\", X=t, y=y, noise=cov_noise)\n",
    "\n",
    "    # this line calls an optimizer to find the MAP\n",
    "    mp = pm.find_MAP(include_transformed=True)"
   ]
  },
  {
   "cell_type": "markdown",
   "metadata": {},
   "source": [
    "## Initial results\n",
    "- lengthscale that determines how fast the seasonality varies is about **126 years**\n",
    "- trend lengthscale is also long, about **50 years**"
   ]
  },
  {
   "cell_type": "code",
   "execution_count": 66,
   "metadata": {},
   "outputs": [
    {
     "data": {
      "text/plain": [
       "['period:             1.00',\n",
       " 'α:                  1.19',\n",
       " 'η_med:              0.02',\n",
       " 'η_noise:            0.01',\n",
       " 'η_per:              0.09',\n",
       " 'η_trend:            1.76',\n",
       " 'σ:                  0.01',\n",
       " 'ℓ_med:              1.50',\n",
       " 'ℓ_noise:            0.17',\n",
       " 'ℓ_pdecay:           126.06',\n",
       " 'ℓ_psmooth :         0.73',\n",
       " 'ℓ_trend:            52.25']"
      ]
     },
     "execution_count": 66,
     "metadata": {},
     "output_type": "execute_result"
    }
   ],
   "source": [
    "sorted(\n",
    "    [ \n",
    "        (name + \": \").ljust(20) + f\"{mp[name]:.2f}\"\n",
    "        for name in mp.keys() \n",
    "        if not name.endswith(\"_\")\n",
    "    ]\n",
    ")"
   ]
  },
  {
   "cell_type": "markdown",
   "metadata": {},
   "source": [
    "# Model Fit"
   ]
  },
  {
   "cell_type": "code",
   "execution_count": 122,
   "metadata": {},
   "outputs": [],
   "source": [
    "# predict at a 15 day granularity\n",
    "dates = pd.date_range(start='3/15/1958', end=\"12/15/2003\", freq=\"15D\")\n",
    "tnew = dates_to_idx(dates)[:, None]"
   ]
  },
  {
   "cell_type": "code",
   "execution_count": null,
   "metadata": {},
   "outputs": [],
   "source": []
  },
  {
   "cell_type": "code",
   "execution_count": 71,
   "metadata": {},
   "outputs": [
    {
     "name": "stderr",
     "output_type": "stream",
     "text": [
      "/Users/tommylees/miniconda3/envs/TEST/lib/python3.7/site-packages/theano/tensor/basic.py:6611: FutureWarning: Using a non-tuple sequence for multidimensional indexing is deprecated; use `arr[tuple(seq)]` instead of `arr[seq]`. In the future this will be interpreted as an array index, `arr[np.array(seq)]`, which will result either in an error or a different result.\n",
      "  result[diagonal_slice] = x\n",
      "/Users/tommylees/miniconda3/envs/TEST/lib/python3.7/site-packages/theano/tensor/basic.py:6611: FutureWarning: Using a non-tuple sequence for multidimensional indexing is deprecated; use `arr[tuple(seq)]` instead of `arr[seq]`. In the future this will be interpreted as an array index, `arr[np.array(seq)]`, which will result either in an error or a different result.\n",
      "  result[diagonal_slice] = x\n"
     ]
    }
   ],
   "source": [
    "print(\"Predicting with gp ...\")\n",
    "mu, var = gp.predict(tnew, point=mp, diag=True)\n",
    "mean_pred = mu * std_co2 + first_co2\n",
    "var_pred  = var * std_co2 ** 2"
   ]
  },
  {
   "cell_type": "code",
   "execution_count": 104,
   "metadata": {},
   "outputs": [],
   "source": [
    "# dates\n",
    "# data_early.index\n",
    "# df.plot(yticks=[0,1], ylim=[-0.1,1.1], style={'sensor1':'ro','sensor2':'bx'})"
   ]
  },
  {
   "cell_type": "code",
   "execution_count": 87,
   "metadata": {},
   "outputs": [
    {
     "data": {
      "text/html": [
       "<div>\n",
       "<style scoped>\n",
       "    .dataframe tbody tr th:only-of-type {\n",
       "        vertical-align: middle;\n",
       "    }\n",
       "\n",
       "    .dataframe tbody tr th {\n",
       "        vertical-align: top;\n",
       "    }\n",
       "\n",
       "    .dataframe thead th {\n",
       "        text-align: right;\n",
       "    }\n",
       "</style>\n",
       "<table border=\"1\" class=\"dataframe\">\n",
       "  <thead>\n",
       "    <tr style=\"text-align: right;\">\n",
       "      <th></th>\n",
       "      <th>t</th>\n",
       "      <th>mu_total</th>\n",
       "      <th>sd_total</th>\n",
       "    </tr>\n",
       "  </thead>\n",
       "  <tbody>\n",
       "    <tr>\n",
       "      <th>1958-03-15</th>\n",
       "      <td>0.000000</td>\n",
       "      <td>316.002065</td>\n",
       "      <td>0.201567</td>\n",
       "    </tr>\n",
       "    <tr>\n",
       "      <th>1958-03-30</th>\n",
       "      <td>0.041096</td>\n",
       "      <td>316.539598</td>\n",
       "      <td>0.191214</td>\n",
       "    </tr>\n",
       "    <tr>\n",
       "      <th>1958-04-14</th>\n",
       "      <td>0.082192</td>\n",
       "      <td>317.097849</td>\n",
       "      <td>0.183279</td>\n",
       "    </tr>\n",
       "    <tr>\n",
       "      <th>1958-04-29</th>\n",
       "      <td>0.123288</td>\n",
       "      <td>317.538105</td>\n",
       "      <td>0.177327</td>\n",
       "    </tr>\n",
       "    <tr>\n",
       "      <th>1958-05-14</th>\n",
       "      <td>0.164384</td>\n",
       "      <td>317.742974</td>\n",
       "      <td>0.172998</td>\n",
       "    </tr>\n",
       "  </tbody>\n",
       "</table>\n",
       "</div>"
      ],
      "text/plain": [
       "                   t    mu_total  sd_total\n",
       "1958-03-15  0.000000  316.002065  0.201567\n",
       "1958-03-30  0.041096  316.539598  0.191214\n",
       "1958-04-14  0.082192  317.097849  0.183279\n",
       "1958-04-29  0.123288  317.538105  0.177327\n",
       "1958-05-14  0.164384  317.742974  0.172998"
      ]
     },
     "execution_count": 87,
     "metadata": {},
     "output_type": "execute_result"
    }
   ],
   "source": [
    "# make dataframe to store fit results\n",
    "fit = pd.DataFrame({\"t\": tnew.flatten(),\n",
    "                    \"mu_total\": mean_pred,\n",
    "                    \"sd_total\": np.sqrt(var_pred)},\n",
    "                   index=dates)\n",
    "fit.shape\n",
    "fit.head()"
   ]
  },
  {
   "cell_type": "code",
   "execution_count": 124,
   "metadata": {},
   "outputs": [
    {
     "name": "stdout",
     "output_type": "stream",
     "text": [
      "Predicting with gp_medium ...\n"
     ]
    },
    {
     "name": "stderr",
     "output_type": "stream",
     "text": [
      "/Users/tommylees/miniconda3/envs/TEST/lib/python3.7/site-packages/theano/tensor/basic.py:6611: FutureWarning: Using a non-tuple sequence for multidimensional indexing is deprecated; use `arr[tuple(seq)]` instead of `arr[seq]`. In the future this will be interpreted as an array index, `arr[np.array(seq)]`, which will result either in an error or a different result.\n",
      "  result[diagonal_slice] = x\n",
      "/Users/tommylees/miniconda3/envs/TEST/lib/python3.7/site-packages/theano/tensor/basic.py:6611: FutureWarning: Using a non-tuple sequence for multidimensional indexing is deprecated; use `arr[tuple(seq)]` instead of `arr[seq]`. In the future this will be interpreted as an array index, `arr[np.array(seq)]`, which will result either in an error or a different result.\n",
      "  result[diagonal_slice] = x\n"
     ]
    },
    {
     "name": "stdout",
     "output_type": "stream",
     "text": [
      "Predicting with gp_seasonal ...\n"
     ]
    },
    {
     "name": "stderr",
     "output_type": "stream",
     "text": [
      "/Users/tommylees/miniconda3/envs/TEST/lib/python3.7/site-packages/theano/tensor/basic.py:6611: FutureWarning: Using a non-tuple sequence for multidimensional indexing is deprecated; use `arr[tuple(seq)]` instead of `arr[seq]`. In the future this will be interpreted as an array index, `arr[np.array(seq)]`, which will result either in an error or a different result.\n",
      "  result[diagonal_slice] = x\n"
     ]
    },
    {
     "name": "stdout",
     "output_type": "stream",
     "text": [
      "Predicting with gp_trend ...\n"
     ]
    },
    {
     "name": "stderr",
     "output_type": "stream",
     "text": [
      "/Users/tommylees/miniconda3/envs/TEST/lib/python3.7/site-packages/theano/tensor/basic.py:6611: FutureWarning: Using a non-tuple sequence for multidimensional indexing is deprecated; use `arr[tuple(seq)]` instead of `arr[seq]`. In the future this will be interpreted as an array index, `arr[np.array(seq)]`, which will result either in an error or a different result.\n",
      "  result[diagonal_slice] = x\n"
     ]
    },
    {
     "name": "stdout",
     "output_type": "stream",
     "text": [
      "Done\n"
     ]
    }
   ],
   "source": [
    "# given: Dict\n",
    "# conditional on // Can optionally take as key value pairs: X, y, noise, and gp\n",
    "# assert len(t.shape) == 2\n",
    "# assert len(y.shape) == 2\n",
    "if (data_dir / 'mauna_loa_gp_fit.csv').exists():\n",
    "    fit = pd.read_csv(data_dir / 'mauna_loa_gp_fit.csv')\n",
    "else:\n",
    "    print(\"Predicting with gp_medium ...\")\n",
    "    mu, var = gp_medium.predict(tnew, point=mp,\n",
    "                                given={\"gp\": gp, \"X\": t.reshape(-1, 1), \"y\": y, \"noise\": cov_noise},\n",
    "                                diag=True)\n",
    "    fit = fit.assign(mu_medium = mu*std_co2 + first_co2,\n",
    "                     sd_medium = np.sqrt(var*std_co2**2))\n",
    "\n",
    "    print(\"Predicting with gp_seasonal ...\")\n",
    "    mu, var = gp_seasonal.predict(tnew, point=mp,\n",
    "                                  given={\"gp\": gp, \"X\": t.reshape(-1, 1), \"y\": y, \"noise\": cov_noise},\n",
    "                                  diag=True)\n",
    "    fit = fit.assign(mu_seasonal = mu*std_co2 + first_co2,\n",
    "                     sd_seasonal = np.sqrt(var*std_co2**2))\n",
    "\n",
    "    print(\"Predicting with gp_trend ...\")\n",
    "    mu, var = gp_trend.predict(tnew, point=mp,\n",
    "                               given={\"gp\": gp, \"X\": t.reshape(-1, 1), \"y\": y, \"noise\": cov_noise},\n",
    "                               diag=True)\n",
    "    fit = fit.assign(mu_trend = mu*std_co2 + first_co2,\n",
    "                     sd_trend = np.sqrt(var * std_co2 ** 2))\n",
    "\n",
    "    fit.to_csv(data_dir / 'mauna_loa_gp_fit.csv')\n",
    "\n",
    "print(\"Done\")"
   ]
  },
  {
   "cell_type": "code",
   "execution_count": 155,
   "metadata": {},
   "outputs": [
    {
     "data": {
      "text/html": [
       "<div>\n",
       "<style scoped>\n",
       "    .dataframe tbody tr th:only-of-type {\n",
       "        vertical-align: middle;\n",
       "    }\n",
       "\n",
       "    .dataframe tbody tr th {\n",
       "        vertical-align: top;\n",
       "    }\n",
       "\n",
       "    .dataframe thead th {\n",
       "        text-align: right;\n",
       "    }\n",
       "</style>\n",
       "<table border=\"1\" class=\"dataframe\">\n",
       "  <thead>\n",
       "    <tr style=\"text-align: right;\">\n",
       "      <th></th>\n",
       "      <th>t</th>\n",
       "      <th>mu_total</th>\n",
       "      <th>sd_total</th>\n",
       "      <th>mu_medium</th>\n",
       "      <th>sd_medium</th>\n",
       "      <th>mu_seasonal</th>\n",
       "      <th>sd_seasonal</th>\n",
       "      <th>mu_trend</th>\n",
       "      <th>sd_trend</th>\n",
       "    </tr>\n",
       "  </thead>\n",
       "  <tbody>\n",
       "    <tr>\n",
       "      <th>1958-03-15</th>\n",
       "      <td>0.000000</td>\n",
       "      <td>316.002065</td>\n",
       "      <td>0.201567</td>\n",
       "      <td>341.447395</td>\n",
       "      <td>0.522613</td>\n",
       "      <td>375.329880</td>\n",
       "      <td>2.135885</td>\n",
       "      <td>9171.078336</td>\n",
       "      <td>2.199310</td>\n",
       "    </tr>\n",
       "    <tr>\n",
       "      <th>1958-03-30</th>\n",
       "      <td>0.041096</td>\n",
       "      <td>316.539598</td>\n",
       "      <td>0.191214</td>\n",
       "      <td>341.778285</td>\n",
       "      <td>0.522589</td>\n",
       "      <td>389.616755</td>\n",
       "      <td>2.135893</td>\n",
       "      <td>9172.224975</td>\n",
       "      <td>2.198662</td>\n",
       "    </tr>\n",
       "    <tr>\n",
       "      <th>1958-04-14</th>\n",
       "      <td>0.082192</td>\n",
       "      <td>317.097849</td>\n",
       "      <td>0.183279</td>\n",
       "      <td>342.079401</td>\n",
       "      <td>0.522603</td>\n",
       "      <td>404.321517</td>\n",
       "      <td>2.135878</td>\n",
       "      <td>9173.371561</td>\n",
       "      <td>2.198022</td>\n",
       "    </tr>\n",
       "    <tr>\n",
       "      <th>1958-04-29</th>\n",
       "      <td>0.123288</td>\n",
       "      <td>317.538105</td>\n",
       "      <td>0.177327</td>\n",
       "      <td>342.348982</td>\n",
       "      <td>0.522625</td>\n",
       "      <td>415.452819</td>\n",
       "      <td>2.135848</td>\n",
       "      <td>9174.518096</td>\n",
       "      <td>2.197390</td>\n",
       "    </tr>\n",
       "    <tr>\n",
       "      <th>1958-05-14</th>\n",
       "      <td>0.164384</td>\n",
       "      <td>317.742974</td>\n",
       "      <td>0.172998</td>\n",
       "      <td>342.585513</td>\n",
       "      <td>0.522623</td>\n",
       "      <td>419.836444</td>\n",
       "      <td>2.135838</td>\n",
       "      <td>9175.664582</td>\n",
       "      <td>2.196765</td>\n",
       "    </tr>\n",
       "  </tbody>\n",
       "</table>\n",
       "</div>"
      ],
      "text/plain": [
       "                   t    mu_total  sd_total   mu_medium  sd_medium  \\\n",
       "1958-03-15  0.000000  316.002065  0.201567  341.447395   0.522613   \n",
       "1958-03-30  0.041096  316.539598  0.191214  341.778285   0.522589   \n",
       "1958-04-14  0.082192  317.097849  0.183279  342.079401   0.522603   \n",
       "1958-04-29  0.123288  317.538105  0.177327  342.348982   0.522625   \n",
       "1958-05-14  0.164384  317.742974  0.172998  342.585513   0.522623   \n",
       "\n",
       "            mu_seasonal  sd_seasonal     mu_trend  sd_trend  \n",
       "1958-03-15   375.329880     2.135885  9171.078336  2.199310  \n",
       "1958-03-30   389.616755     2.135893  9172.224975  2.198662  \n",
       "1958-04-14   404.321517     2.135878  9173.371561  2.198022  \n",
       "1958-04-29   415.452819     2.135848  9174.518096  2.197390  \n",
       "1958-05-14   419.836444     2.135838  9175.664582  2.196765  "
      ]
     },
     "execution_count": 155,
     "metadata": {},
     "output_type": "execute_result"
    }
   ],
   "source": [
    "fit.head()"
   ]
  },
  {
   "cell_type": "code",
   "execution_count": 1,
   "metadata": {},
   "outputs": [
    {
     "ename": "NameError",
     "evalue": "name 'fit' is not defined",
     "output_type": "error",
     "traceback": [
      "\u001b[0;31m---------------------------------------------------------------------------\u001b[0m",
      "\u001b[0;31mNameError\u001b[0m                                 Traceback (most recent call last)",
      "\u001b[0;32m<ipython-input-1-51fa5a61c2fb>\u001b[0m in \u001b[0;36m<module>\u001b[0;34m\u001b[0m\n\u001b[0;32m----> 1\u001b[0;31m \u001b[0mfit\u001b[0m\u001b[0;34m.\u001b[0m\u001b[0mto_csv\u001b[0m\u001b[0;34m(\u001b[0m\u001b[0mdata_dir\u001b[0m \u001b[0;34m/\u001b[0m \u001b[0;34m'mauna_loa_gp_fit.csv'\u001b[0m\u001b[0;34m)\u001b[0m\u001b[0;34m\u001b[0m\u001b[0;34m\u001b[0m\u001b[0m\n\u001b[0m",
      "\u001b[0;31mNameError\u001b[0m: name 'fit' is not defined"
     ]
    }
   ],
   "source": [
    "fit.to_csv(data_dir / 'mauna_loa_gp_fit.csv')"
   ]
  },
  {
   "cell_type": "code",
   "execution_count": null,
   "metadata": {},
   "outputs": [],
   "source": []
  },
  {
   "cell_type": "code",
   "execution_count": 170,
   "metadata": {},
   "outputs": [
    {
     "data": {
      "image/png": "[encoded data removed]",
      "text/plain": [
       "<Figure size 864x360 with 1 Axes>"
      ]
     },
     "metadata": {
      "needs_background": "light"
     },
     "output_type": "display_data"
    }
   ],
   "source": [
    "fig, ax = plt.subplots(figsize=(12, 5))\n",
    "ax.scatter(t, data_monthly[\"CO2\"].values, label='Observed', s=5, marker='x');\n",
    "\n",
    "ax.scatter(tnew, mean_pred, color=sns.color_palette()[1], label='Prediction', s=5, marker='o')\n",
    "ax.fill_between(\n",
    "    x=tnew.flatten(), \n",
    "    y1=fit['mu_total'] - (2 * fit['sd_total']), \n",
    "    y2=fit['mu_total'] + (2 * fit['sd_total']),\n",
    "    alpha=0.2, label='Uncertainty'\n",
    ")\n",
    "\n",
    "ax.set_xlabel('Time')\n",
    "ax.set_ylabel('Normalised $CO_2$ concentration')\n",
    "ax.set_title('Mauna Loa Observatory')\n",
    "ax.legend(loc='lower left')\n",
    "\n",
    "ax.set_xlim((0, 4))\n",
    "ax.set_ylim((308, 322))\n",
    "\n",
    "ax.spines['top'].set_visible(False)\n",
    "ax.spines['right'].set_visible(False)"
   ]
  },
  {
   "cell_type": "markdown",
   "metadata": {},
   "source": [
    "# The seasonal cycle also varies over time!"
   ]
  },
  {
   "cell_type": "code",
   "execution_count": 175,
   "metadata": {},
   "outputs": [
    {
     "name": "stdout",
     "output_type": "stream",
     "text": [
      "Predicting year 1960\n",
      "Predicting year 1970\n",
      "Predicting year 1980\n"
     ]
    },
    {
     "ename": "KeyboardInterrupt",
     "evalue": "",
     "output_type": "error",
     "traceback": [
      "\u001b[0;31m---------------------------------------------------------------------------\u001b[0m",
      "\u001b[0;31mKeyboardInterrupt\u001b[0m                         Traceback (most recent call last)",
      "\u001b[0;32m~/miniconda3/envs/TEST/lib/python3.7/site-packages/IPython/core/interactiveshell.py\u001b[0m in \u001b[0;36mrun_code\u001b[0;34m(self, code_obj, result, async_)\u001b[0m\n\u001b[1;32m   3330\u001b[0m                 \u001b[0;32melse\u001b[0m\u001b[0;34m:\u001b[0m\u001b[0;34m\u001b[0m\u001b[0;34m\u001b[0m\u001b[0m\n\u001b[0;32m-> 3331\u001b[0;31m                     \u001b[0mexec\u001b[0m\u001b[0;34m(\u001b[0m\u001b[0mcode_obj\u001b[0m\u001b[0;34m,\u001b[0m \u001b[0mself\u001b[0m\u001b[0;34m.\u001b[0m\u001b[0muser_global_ns\u001b[0m\u001b[0;34m,\u001b[0m \u001b[0mself\u001b[0m\u001b[0;34m.\u001b[0m\u001b[0muser_ns\u001b[0m\u001b[0;34m)\u001b[0m\u001b[0;34m\u001b[0m\u001b[0;34m\u001b[0m\u001b[0m\n\u001b[0m\u001b[1;32m   3332\u001b[0m             \u001b[0;32mfinally\u001b[0m\u001b[0;34m:\u001b[0m\u001b[0;34m\u001b[0m\u001b[0;34m\u001b[0m\u001b[0m\n",
      "\u001b[0;32m<ipython-input-175-6417c4ae1b06>\u001b[0m in \u001b[0;36m<module>\u001b[0;34m\u001b[0m\n\u001b[1;32m     11\u001b[0m     mu, var = gp_seasonal.predict(tnew, point=mp, diag=True,\n\u001b[0;32m---> 12\u001b[0;31m                                   given={\"gp\": gp, \"X\": t.reshape(-1, 1), \"y\": y, \"noise\": cov_noise})\n\u001b[0m\u001b[1;32m     13\u001b[0m     \u001b[0mmu_pred\u001b[0m \u001b[0;34m=\u001b[0m \u001b[0mmu\u001b[0m \u001b[0;34m*\u001b[0m \u001b[0mstd_co2\u001b[0m\u001b[0;34m\u001b[0m\u001b[0;34m\u001b[0m\u001b[0m\n",
      "\u001b[0;32m~/miniconda3/envs/TEST/lib/python3.7/site-packages/pymc3/gp/gp.py\u001b[0m in \u001b[0;36mpredict\u001b[0;34m(self, Xnew, point, diag, pred_noise, given)\u001b[0m\n\u001b[1;32m    532\u001b[0m \u001b[0;34m\u001b[0m\u001b[0m\n\u001b[0;32m--> 533\u001b[0;31m         \u001b[0mmu\u001b[0m\u001b[0;34m,\u001b[0m \u001b[0mcov\u001b[0m \u001b[0;34m=\u001b[0m \u001b[0mself\u001b[0m\u001b[0;34m.\u001b[0m\u001b[0mpredictt\u001b[0m\u001b[0;34m(\u001b[0m\u001b[0mXnew\u001b[0m\u001b[0;34m,\u001b[0m \u001b[0mdiag\u001b[0m\u001b[0;34m,\u001b[0m \u001b[0mpred_noise\u001b[0m\u001b[0;34m,\u001b[0m \u001b[0mgiven\u001b[0m\u001b[0;34m)\u001b[0m\u001b[0;34m\u001b[0m\u001b[0;34m\u001b[0m\u001b[0m\n\u001b[0m\u001b[1;32m    534\u001b[0m         \u001b[0;32mreturn\u001b[0m \u001b[0mdraw_values\u001b[0m\u001b[0;34m(\u001b[0m\u001b[0;34m[\u001b[0m\u001b[0mmu\u001b[0m\u001b[0;34m,\u001b[0m \u001b[0mcov\u001b[0m\u001b[0;34m]\u001b[0m\u001b[0;34m,\u001b[0m \u001b[0mpoint\u001b[0m\u001b[0;34m=\u001b[0m\u001b[0mpoint\u001b[0m\u001b[0;34m)\u001b[0m\u001b[0;34m\u001b[0m\u001b[0;34m\u001b[0m\u001b[0m\n",
      "\u001b[0;32m~/miniconda3/envs/TEST/lib/python3.7/site-packages/pymc3/gp/gp.py\u001b[0m in \u001b[0;36mpredictt\u001b[0;34m(self, Xnew, diag, pred_noise, given)\u001b[0m\n\u001b[1;32m    555\u001b[0m         \u001b[0mgivens\u001b[0m \u001b[0;34m=\u001b[0m \u001b[0mself\u001b[0m\u001b[0;34m.\u001b[0m\u001b[0m_get_given_vals\u001b[0m\u001b[0;34m(\u001b[0m\u001b[0mgiven\u001b[0m\u001b[0;34m)\u001b[0m\u001b[0;34m\u001b[0m\u001b[0;34m\u001b[0m\u001b[0m\n\u001b[0;32m--> 556\u001b[0;31m         \u001b[0mmu\u001b[0m\u001b[0;34m,\u001b[0m \u001b[0mcov\u001b[0m \u001b[0;34m=\u001b[0m \u001b[0mself\u001b[0m\u001b[0;34m.\u001b[0m\u001b[0m_build_conditional\u001b[0m\u001b[0;34m(\u001b[0m\u001b[0mXnew\u001b[0m\u001b[0;34m,\u001b[0m \u001b[0mpred_noise\u001b[0m\u001b[0;34m,\u001b[0m \u001b[0mdiag\u001b[0m\u001b[0;34m,\u001b[0m \u001b[0;34m*\u001b[0m\u001b[0mgivens\u001b[0m\u001b[0;34m)\u001b[0m\u001b[0;34m\u001b[0m\u001b[0;34m\u001b[0m\u001b[0m\n\u001b[0m\u001b[1;32m    557\u001b[0m         \u001b[0;32mreturn\u001b[0m \u001b[0mmu\u001b[0m\u001b[0;34m,\u001b[0m \u001b[0mcov\u001b[0m\u001b[0;34m\u001b[0m\u001b[0;34m\u001b[0m\u001b[0m\n",
      "\u001b[0;32m~/miniconda3/envs/TEST/lib/python3.7/site-packages/pymc3/gp/gp.py\u001b[0m in \u001b[0;36m_build_conditional\u001b[0;34m(self, Xnew, pred_noise, diag, X, y, noise, cov_total, mean_total)\u001b[0m\n\u001b[1;32m    450\u001b[0m         \u001b[0mKxs\u001b[0m \u001b[0;34m=\u001b[0m \u001b[0mself\u001b[0m\u001b[0;34m.\u001b[0m\u001b[0mcov_func\u001b[0m\u001b[0;34m(\u001b[0m\u001b[0mX\u001b[0m\u001b[0;34m,\u001b[0m \u001b[0mXnew\u001b[0m\u001b[0;34m)\u001b[0m\u001b[0;34m\u001b[0m\u001b[0;34m\u001b[0m\u001b[0m\n\u001b[0;32m--> 451\u001b[0;31m         \u001b[0mKnx\u001b[0m \u001b[0;34m=\u001b[0m \u001b[0mnoise\u001b[0m\u001b[0;34m(\u001b[0m\u001b[0mX\u001b[0m\u001b[0;34m)\u001b[0m\u001b[0;34m\u001b[0m\u001b[0;34m\u001b[0m\u001b[0m\n\u001b[0m\u001b[1;32m    452\u001b[0m         \u001b[0mrxx\u001b[0m \u001b[0;34m=\u001b[0m \u001b[0my\u001b[0m \u001b[0;34m-\u001b[0m \u001b[0mmean_total\u001b[0m\u001b[0;34m(\u001b[0m\u001b[0mX\u001b[0m\u001b[0;34m)\u001b[0m\u001b[0;34m\u001b[0m\u001b[0;34m\u001b[0m\u001b[0m\n",
      "\u001b[0;32m~/miniconda3/envs/TEST/lib/python3.7/site-packages/pymc3/gp/cov.py\u001b[0m in \u001b[0;36m__call__\u001b[0;34m(self, X, Xs, diag)\u001b[0m\n\u001b[1;32m    152\u001b[0m     \u001b[0;32mdef\u001b[0m \u001b[0m__call__\u001b[0m\u001b[0;34m(\u001b[0m\u001b[0mself\u001b[0m\u001b[0;34m,\u001b[0m \u001b[0mX\u001b[0m\u001b[0;34m,\u001b[0m \u001b[0mXs\u001b[0m\u001b[0;34m=\u001b[0m\u001b[0;32mNone\u001b[0m\u001b[0;34m,\u001b[0m \u001b[0mdiag\u001b[0m\u001b[0;34m=\u001b[0m\u001b[0;32mFalse\u001b[0m\u001b[0;34m)\u001b[0m\u001b[0;34m:\u001b[0m\u001b[0;34m\u001b[0m\u001b[0;34m\u001b[0m\u001b[0m\n\u001b[0;32m--> 153\u001b[0;31m         \u001b[0;32mreturn\u001b[0m \u001b[0mreduce\u001b[0m\u001b[0;34m(\u001b[0m\u001b[0madd\u001b[0m\u001b[0;34m,\u001b[0m \u001b[0mself\u001b[0m\u001b[0;34m.\u001b[0m\u001b[0mmerge_factors\u001b[0m\u001b[0;34m(\u001b[0m\u001b[0mX\u001b[0m\u001b[0;34m,\u001b[0m \u001b[0mXs\u001b[0m\u001b[0;34m,\u001b[0m \u001b[0mdiag\u001b[0m\u001b[0;34m)\u001b[0m\u001b[0;34m)\u001b[0m\u001b[0;34m\u001b[0m\u001b[0;34m\u001b[0m\u001b[0m\n\u001b[0m\u001b[1;32m    154\u001b[0m \u001b[0;34m\u001b[0m\u001b[0m\n",
      "\u001b[0;32m~/miniconda3/envs/TEST/lib/python3.7/site-packages/pymc3/gp/cov.py\u001b[0m in \u001b[0;36mmerge_factors\u001b[0;34m(self, X, Xs, diag)\u001b[0m\n\u001b[1;32m    127\u001b[0m             \u001b[0;32mif\u001b[0m \u001b[0misinstance\u001b[0m\u001b[0;34m(\u001b[0m\u001b[0mfactor\u001b[0m\u001b[0;34m,\u001b[0m \u001b[0mCovariance\u001b[0m\u001b[0;34m)\u001b[0m\u001b[0;34m:\u001b[0m\u001b[0;34m\u001b[0m\u001b[0;34m\u001b[0m\u001b[0m\n\u001b[0;32m--> 128\u001b[0;31m                 \u001b[0mfactor_list\u001b[0m\u001b[0;34m.\u001b[0m\u001b[0mappend\u001b[0m\u001b[0;34m(\u001b[0m\u001b[0mfactor\u001b[0m\u001b[0;34m(\u001b[0m\u001b[0mX\u001b[0m\u001b[0;34m,\u001b[0m \u001b[0mXs\u001b[0m\u001b[0;34m,\u001b[0m \u001b[0mdiag\u001b[0m\u001b[0;34m)\u001b[0m\u001b[0;34m)\u001b[0m\u001b[0;34m\u001b[0m\u001b[0;34m\u001b[0m\u001b[0m\n\u001b[0m\u001b[1;32m    129\u001b[0m             \u001b[0;32melif\u001b[0m \u001b[0misinstance\u001b[0m\u001b[0;34m(\u001b[0m\u001b[0mfactor\u001b[0m\u001b[0;34m,\u001b[0m \u001b[0mnp\u001b[0m\u001b[0;34m.\u001b[0m\u001b[0mndarray\u001b[0m\u001b[0;34m)\u001b[0m\u001b[0;34m:\u001b[0m\u001b[0;34m\u001b[0m\u001b[0;34m\u001b[0m\u001b[0m\n",
      "\u001b[0;32m~/miniconda3/envs/TEST/lib/python3.7/site-packages/pymc3/gp/cov.py\u001b[0m in \u001b[0;36m__call__\u001b[0;34m(self, X, Xs, diag)\u001b[0m\n\u001b[1;32m    157\u001b[0m     \u001b[0;32mdef\u001b[0m \u001b[0m__call__\u001b[0m\u001b[0;34m(\u001b[0m\u001b[0mself\u001b[0m\u001b[0;34m,\u001b[0m \u001b[0mX\u001b[0m\u001b[0;34m,\u001b[0m \u001b[0mXs\u001b[0m\u001b[0;34m=\u001b[0m\u001b[0;32mNone\u001b[0m\u001b[0;34m,\u001b[0m \u001b[0mdiag\u001b[0m\u001b[0;34m=\u001b[0m\u001b[0;32mFalse\u001b[0m\u001b[0;34m)\u001b[0m\u001b[0;34m:\u001b[0m\u001b[0;34m\u001b[0m\u001b[0;34m\u001b[0m\u001b[0m\n\u001b[0;32m--> 158\u001b[0;31m         \u001b[0;32mreturn\u001b[0m \u001b[0mreduce\u001b[0m\u001b[0;34m(\u001b[0m\u001b[0mmul\u001b[0m\u001b[0;34m,\u001b[0m \u001b[0mself\u001b[0m\u001b[0;34m.\u001b[0m\u001b[0mmerge_factors\u001b[0m\u001b[0;34m(\u001b[0m\u001b[0mX\u001b[0m\u001b[0;34m,\u001b[0m \u001b[0mXs\u001b[0m\u001b[0;34m,\u001b[0m \u001b[0mdiag\u001b[0m\u001b[0;34m)\u001b[0m\u001b[0;34m)\u001b[0m\u001b[0;34m\u001b[0m\u001b[0;34m\u001b[0m\u001b[0m\n\u001b[0m\u001b[1;32m    159\u001b[0m \u001b[0;34m\u001b[0m\u001b[0m\n",
      "\u001b[0;32m~/miniconda3/envs/TEST/lib/python3.7/site-packages/pymc3/gp/cov.py\u001b[0m in \u001b[0;36mmerge_factors\u001b[0;34m(self, X, Xs, diag)\u001b[0m\n\u001b[1;32m    127\u001b[0m             \u001b[0;32mif\u001b[0m \u001b[0misinstance\u001b[0m\u001b[0;34m(\u001b[0m\u001b[0mfactor\u001b[0m\u001b[0;34m,\u001b[0m \u001b[0mCovariance\u001b[0m\u001b[0;34m)\u001b[0m\u001b[0;34m:\u001b[0m\u001b[0;34m\u001b[0m\u001b[0;34m\u001b[0m\u001b[0m\n\u001b[0;32m--> 128\u001b[0;31m                 \u001b[0mfactor_list\u001b[0m\u001b[0;34m.\u001b[0m\u001b[0mappend\u001b[0m\u001b[0;34m(\u001b[0m\u001b[0mfactor\u001b[0m\u001b[0;34m(\u001b[0m\u001b[0mX\u001b[0m\u001b[0;34m,\u001b[0m \u001b[0mXs\u001b[0m\u001b[0;34m,\u001b[0m \u001b[0mdiag\u001b[0m\u001b[0;34m)\u001b[0m\u001b[0;34m)\u001b[0m\u001b[0;34m\u001b[0m\u001b[0;34m\u001b[0m\u001b[0m\n\u001b[0m\u001b[1;32m    129\u001b[0m             \u001b[0;32melif\u001b[0m \u001b[0misinstance\u001b[0m\u001b[0;34m(\u001b[0m\u001b[0mfactor\u001b[0m\u001b[0;34m,\u001b[0m \u001b[0mnp\u001b[0m\u001b[0;34m.\u001b[0m\u001b[0mndarray\u001b[0m\u001b[0;34m)\u001b[0m\u001b[0;34m:\u001b[0m\u001b[0;34m\u001b[0m\u001b[0;34m\u001b[0m\u001b[0m\n",
      "\u001b[0;32m~/miniconda3/envs/TEST/lib/python3.7/site-packages/pymc3/gp/cov.py\u001b[0m in \u001b[0;36m__call__\u001b[0;34m(self, X, Xs, diag)\u001b[0m\n\u001b[1;32m     62\u001b[0m         \u001b[0;32melse\u001b[0m\u001b[0;34m:\u001b[0m\u001b[0;34m\u001b[0m\u001b[0;34m\u001b[0m\u001b[0m\n\u001b[0;32m---> 63\u001b[0;31m             \u001b[0;32mreturn\u001b[0m \u001b[0mself\u001b[0m\u001b[0;34m.\u001b[0m\u001b[0mfull\u001b[0m\u001b[0;34m(\u001b[0m\u001b[0mX\u001b[0m\u001b[0;34m,\u001b[0m \u001b[0mXs\u001b[0m\u001b[0;34m)\u001b[0m\u001b[0;34m\u001b[0m\u001b[0;34m\u001b[0m\u001b[0m\n\u001b[0m\u001b[1;32m     64\u001b[0m \u001b[0;34m\u001b[0m\u001b[0m\n",
      "\u001b[0;32m~/miniconda3/envs/TEST/lib/python3.7/site-packages/pymc3/gp/cov.py\u001b[0m in \u001b[0;36mfull\u001b[0;34m(self, X, Xs)\u001b[0m\n\u001b[1;32m    383\u001b[0m         \u001b[0mX\u001b[0m\u001b[0;34m,\u001b[0m \u001b[0mXs\u001b[0m \u001b[0;34m=\u001b[0m \u001b[0mself\u001b[0m\u001b[0;34m.\u001b[0m\u001b[0m_slice\u001b[0m\u001b[0;34m(\u001b[0m\u001b[0mX\u001b[0m\u001b[0;34m,\u001b[0m \u001b[0mXs\u001b[0m\u001b[0;34m)\u001b[0m\u001b[0;34m\u001b[0m\u001b[0;34m\u001b[0m\u001b[0m\n\u001b[0;32m--> 384\u001b[0;31m         \u001b[0mr\u001b[0m \u001b[0;34m=\u001b[0m \u001b[0mself\u001b[0m\u001b[0;34m.\u001b[0m\u001b[0meuclidean_dist\u001b[0m\u001b[0;34m(\u001b[0m\u001b[0mX\u001b[0m\u001b[0;34m,\u001b[0m \u001b[0mXs\u001b[0m\u001b[0;34m)\u001b[0m\u001b[0;34m\u001b[0m\u001b[0;34m\u001b[0m\u001b[0m\n\u001b[0m\u001b[1;32m    385\u001b[0m         \u001b[0;32mreturn\u001b[0m \u001b[0;34m(\u001b[0m\u001b[0;36m1.0\u001b[0m \u001b[0;34m+\u001b[0m \u001b[0mnp\u001b[0m\u001b[0;34m.\u001b[0m\u001b[0msqrt\u001b[0m\u001b[0;34m(\u001b[0m\u001b[0;36m3.0\u001b[0m\u001b[0;34m)\u001b[0m \u001b[0;34m*\u001b[0m \u001b[0mr\u001b[0m\u001b[0;34m)\u001b[0m \u001b[0;34m*\u001b[0m \u001b[0mtt\u001b[0m\u001b[0;34m.\u001b[0m\u001b[0mexp\u001b[0m\u001b[0;34m(\u001b[0m\u001b[0;34m-\u001b[0m\u001b[0mnp\u001b[0m\u001b[0;34m.\u001b[0m\u001b[0msqrt\u001b[0m\u001b[0;34m(\u001b[0m\u001b[0;36m3.0\u001b[0m\u001b[0;34m)\u001b[0m \u001b[0;34m*\u001b[0m \u001b[0mr\u001b[0m\u001b[0;34m)\u001b[0m\u001b[0;34m\u001b[0m\u001b[0;34m\u001b[0m\u001b[0m\n",
      "\u001b[0;32m~/miniconda3/envs/TEST/lib/python3.7/site-packages/pymc3/gp/cov.py\u001b[0m in \u001b[0;36meuclidean_dist\u001b[0;34m(self, X, Xs)\u001b[0m\n\u001b[1;32m    284\u001b[0m         \u001b[0mr2\u001b[0m \u001b[0;34m=\u001b[0m \u001b[0mself\u001b[0m\u001b[0;34m.\u001b[0m\u001b[0msquare_dist\u001b[0m\u001b[0;34m(\u001b[0m\u001b[0mX\u001b[0m\u001b[0;34m,\u001b[0m \u001b[0mXs\u001b[0m\u001b[0;34m)\u001b[0m\u001b[0;34m\u001b[0m\u001b[0;34m\u001b[0m\u001b[0m\n\u001b[0;32m--> 285\u001b[0;31m         \u001b[0;32mreturn\u001b[0m \u001b[0mtt\u001b[0m\u001b[0;34m.\u001b[0m\u001b[0msqrt\u001b[0m\u001b[0;34m(\u001b[0m\u001b[0mr2\u001b[0m \u001b[0;34m+\u001b[0m \u001b[0;36m1e-12\u001b[0m\u001b[0;34m)\u001b[0m\u001b[0;34m\u001b[0m\u001b[0;34m\u001b[0m\u001b[0m\n\u001b[0m\u001b[1;32m    286\u001b[0m \u001b[0;34m\u001b[0m\u001b[0m\n",
      "\u001b[0;32m~/miniconda3/envs/TEST/lib/python3.7/site-packages/theano/gof/op.py\u001b[0m in \u001b[0;36m__call__\u001b[0;34m(self, *inputs, **kwargs)\u001b[0m\n\u001b[1;32m    673\u001b[0m \u001b[0;34m\u001b[0m\u001b[0m\n\u001b[0;32m--> 674\u001b[0;31m                 \u001b[0mrequired\u001b[0m \u001b[0;34m=\u001b[0m \u001b[0mthunk\u001b[0m\u001b[0;34m(\u001b[0m\u001b[0;34m)\u001b[0m\u001b[0;34m\u001b[0m\u001b[0;34m\u001b[0m\u001b[0m\n\u001b[0m\u001b[1;32m    675\u001b[0m                 \u001b[0;32massert\u001b[0m \u001b[0;32mnot\u001b[0m \u001b[0mrequired\u001b[0m  \u001b[0;31m# We provided all inputs\u001b[0m\u001b[0;34m\u001b[0m\u001b[0;34m\u001b[0m\u001b[0m\n",
      "\u001b[0;32m~/miniconda3/envs/TEST/lib/python3.7/site-packages/theano/gof/op.py\u001b[0m in \u001b[0;36mrval\u001b[0;34m()\u001b[0m\n\u001b[1;32m    861\u001b[0m         \u001b[0;32mdef\u001b[0m \u001b[0mrval\u001b[0m\u001b[0;34m(\u001b[0m\u001b[0;34m)\u001b[0m\u001b[0;34m:\u001b[0m\u001b[0;34m\u001b[0m\u001b[0;34m\u001b[0m\u001b[0m\n\u001b[0;32m--> 862\u001b[0;31m             \u001b[0mthunk\u001b[0m\u001b[0;34m(\u001b[0m\u001b[0;34m)\u001b[0m\u001b[0;34m\u001b[0m\u001b[0;34m\u001b[0m\u001b[0m\n\u001b[0m\u001b[1;32m    863\u001b[0m             \u001b[0;32mfor\u001b[0m \u001b[0mo\u001b[0m \u001b[0;32min\u001b[0m \u001b[0mnode\u001b[0m\u001b[0;34m.\u001b[0m\u001b[0moutputs\u001b[0m\u001b[0;34m:\u001b[0m\u001b[0;34m\u001b[0m\u001b[0;34m\u001b[0m\u001b[0m\n",
      "\u001b[0;32m~/miniconda3/envs/TEST/lib/python3.7/site-packages/theano/gof/cc.py\u001b[0m in \u001b[0;36m__call__\u001b[0;34m(self)\u001b[0m\n\u001b[1;32m   1718\u001b[0m     \u001b[0;32mdef\u001b[0m \u001b[0m__call__\u001b[0m\u001b[0;34m(\u001b[0m\u001b[0mself\u001b[0m\u001b[0;34m)\u001b[0m\u001b[0;34m:\u001b[0m\u001b[0;34m\u001b[0m\u001b[0;34m\u001b[0m\u001b[0m\n\u001b[0;32m-> 1719\u001b[0;31m         \u001b[0mfailure\u001b[0m \u001b[0;34m=\u001b[0m \u001b[0mrun_cthunk\u001b[0m\u001b[0;34m(\u001b[0m\u001b[0mself\u001b[0m\u001b[0;34m.\u001b[0m\u001b[0mcthunk\u001b[0m\u001b[0;34m)\u001b[0m\u001b[0;34m\u001b[0m\u001b[0;34m\u001b[0m\u001b[0m\n\u001b[0m\u001b[1;32m   1720\u001b[0m         \u001b[0;32mif\u001b[0m \u001b[0mfailure\u001b[0m\u001b[0;34m:\u001b[0m\u001b[0;34m\u001b[0m\u001b[0;34m\u001b[0m\u001b[0m\n",
      "\u001b[0;31mKeyboardInterrupt\u001b[0m: ",
      "\nDuring handling of the above exception, another exception occurred:\n",
      "\u001b[0;31mAttributeError\u001b[0m                            Traceback (most recent call last)",
      "\u001b[0;32m~/miniconda3/envs/TEST/lib/python3.7/site-packages/IPython/core/interactiveshell.py\u001b[0m in \u001b[0;36mshowtraceback\u001b[0;34m(self, exc_tuple, filename, tb_offset, exception_only, running_compiled_code)\u001b[0m\n\u001b[1;32m   2043\u001b[0m                         \u001b[0;31m# in the engines. This should return a list of strings.\u001b[0m\u001b[0;34m\u001b[0m\u001b[0;34m\u001b[0m\u001b[0;34m\u001b[0m\u001b[0m\n\u001b[0;32m-> 2044\u001b[0;31m                         \u001b[0mstb\u001b[0m \u001b[0;34m=\u001b[0m \u001b[0mvalue\u001b[0m\u001b[0;34m.\u001b[0m\u001b[0m_render_traceback_\u001b[0m\u001b[0;34m(\u001b[0m\u001b[0;34m)\u001b[0m\u001b[0;34m\u001b[0m\u001b[0;34m\u001b[0m\u001b[0m\n\u001b[0m\u001b[1;32m   2045\u001b[0m                     \u001b[0;32mexcept\u001b[0m \u001b[0mException\u001b[0m\u001b[0;34m:\u001b[0m\u001b[0;34m\u001b[0m\u001b[0;34m\u001b[0m\u001b[0m\n",
      "\u001b[0;31mAttributeError\u001b[0m: 'KeyboardInterrupt' object has no attribute '_render_traceback_'",
      "\nDuring handling of the above exception, another exception occurred:\n",
      "\u001b[0;31mKeyboardInterrupt\u001b[0m                         Traceback (most recent call last)",
      "\u001b[0;32m~/miniconda3/envs/TEST/lib/python3.7/site-packages/IPython/core/interactiveshell.py\u001b[0m in \u001b[0;36mshowtraceback\u001b[0;34m(self, exc_tuple, filename, tb_offset, exception_only, running_compiled_code)\u001b[0m\n\u001b[1;32m   2046\u001b[0m                         stb = self.InteractiveTB.structured_traceback(etype,\n\u001b[0;32m-> 2047\u001b[0;31m                                             value, tb, tb_offset=tb_offset)\n\u001b[0m\u001b[1;32m   2048\u001b[0m \u001b[0;34m\u001b[0m\u001b[0m\n",
      "\u001b[0;32m~/miniconda3/envs/TEST/lib/python3.7/site-packages/IPython/core/ultratb.py\u001b[0m in \u001b[0;36mstructured_traceback\u001b[0;34m(self, etype, value, tb, tb_offset, number_of_lines_of_context)\u001b[0m\n\u001b[1;32m   1414\u001b[0m         return FormattedTB.structured_traceback(\n\u001b[0;32m-> 1415\u001b[0;31m             self, etype, value, tb, tb_offset, number_of_lines_of_context)\n\u001b[0m\u001b[1;32m   1416\u001b[0m \u001b[0;34m\u001b[0m\u001b[0m\n",
      "\u001b[0;32m~/miniconda3/envs/TEST/lib/python3.7/site-packages/IPython/core/ultratb.py\u001b[0m in \u001b[0;36mstructured_traceback\u001b[0;34m(self, etype, value, tb, tb_offset, number_of_lines_of_context)\u001b[0m\n\u001b[1;32m   1313\u001b[0m             \u001b[0;31m# Verbose modes need a full traceback\u001b[0m\u001b[0;34m\u001b[0m\u001b[0;34m\u001b[0m\u001b[0;34m\u001b[0m\u001b[0m\n\u001b[0;32m-> 1314\u001b[0;31m             return VerboseTB.structured_traceback(\n\u001b[0m\u001b[1;32m   1315\u001b[0m                 \u001b[0mself\u001b[0m\u001b[0;34m,\u001b[0m \u001b[0metype\u001b[0m\u001b[0;34m,\u001b[0m \u001b[0mvalue\u001b[0m\u001b[0;34m,\u001b[0m \u001b[0mtb\u001b[0m\u001b[0;34m,\u001b[0m \u001b[0mtb_offset\u001b[0m\u001b[0;34m,\u001b[0m \u001b[0mnumber_of_lines_of_context\u001b[0m\u001b[0;34m\u001b[0m\u001b[0;34m\u001b[0m\u001b[0m\n",
      "\u001b[0;31mKeyboardInterrupt\u001b[0m: ",
      "\nDuring handling of the above exception, another exception occurred:\n",
      "\u001b[0;31mKeyboardInterrupt\u001b[0m                         Traceback (most recent call last)",
      "\u001b[0;32m~/miniconda3/envs/TEST/lib/python3.7/site-packages/IPython/core/interactiveshell.py\u001b[0m in \u001b[0;36mrun_code\u001b[0;34m(self, code_obj, result, async_)\u001b[0m\n\u001b[1;32m   3346\u001b[0m             \u001b[0;32mif\u001b[0m \u001b[0mresult\u001b[0m \u001b[0;32mis\u001b[0m \u001b[0;32mnot\u001b[0m \u001b[0;32mNone\u001b[0m\u001b[0;34m:\u001b[0m\u001b[0;34m\u001b[0m\u001b[0;34m\u001b[0m\u001b[0m\n\u001b[1;32m   3347\u001b[0m                 \u001b[0mresult\u001b[0m\u001b[0;34m.\u001b[0m\u001b[0merror_in_exec\u001b[0m \u001b[0;34m=\u001b[0m \u001b[0msys\u001b[0m\u001b[0;34m.\u001b[0m\u001b[0mexc_info\u001b[0m\u001b[0;34m(\u001b[0m\u001b[0;34m)\u001b[0m\u001b[0;34m[\u001b[0m\u001b[0;36m1\u001b[0m\u001b[0;34m]\u001b[0m\u001b[0;34m\u001b[0m\u001b[0;34m\u001b[0m\u001b[0m\n\u001b[0;32m-> 3348\u001b[0;31m             \u001b[0mself\u001b[0m\u001b[0;34m.\u001b[0m\u001b[0mshowtraceback\u001b[0m\u001b[0;34m(\u001b[0m\u001b[0mrunning_compiled_code\u001b[0m\u001b[0;34m=\u001b[0m\u001b[0;32mTrue\u001b[0m\u001b[0;34m)\u001b[0m\u001b[0;34m\u001b[0m\u001b[0;34m\u001b[0m\u001b[0m\n\u001b[0m\u001b[1;32m   3349\u001b[0m         \u001b[0;32melse\u001b[0m\u001b[0;34m:\u001b[0m\u001b[0;34m\u001b[0m\u001b[0;34m\u001b[0m\u001b[0m\n\u001b[1;32m   3350\u001b[0m             \u001b[0moutflag\u001b[0m \u001b[0;34m=\u001b[0m \u001b[0;32mFalse\u001b[0m\u001b[0;34m\u001b[0m\u001b[0;34m\u001b[0m\u001b[0m\n",
      "\u001b[0;32m~/miniconda3/envs/TEST/lib/python3.7/site-packages/IPython/core/interactiveshell.py\u001b[0m in \u001b[0;36mshowtraceback\u001b[0;34m(self, exc_tuple, filename, tb_offset, exception_only, running_compiled_code)\u001b[0m\n\u001b[1;32m   2057\u001b[0m \u001b[0;34m\u001b[0m\u001b[0m\n\u001b[1;32m   2058\u001b[0m         \u001b[0;32mexcept\u001b[0m \u001b[0mKeyboardInterrupt\u001b[0m\u001b[0;34m:\u001b[0m\u001b[0;34m\u001b[0m\u001b[0;34m\u001b[0m\u001b[0m\n\u001b[0;32m-> 2059\u001b[0;31m             \u001b[0mprint\u001b[0m\u001b[0;34m(\u001b[0m\u001b[0;34m'\\n'\u001b[0m \u001b[0;34m+\u001b[0m \u001b[0mself\u001b[0m\u001b[0;34m.\u001b[0m\u001b[0mget_exception_only\u001b[0m\u001b[0;34m(\u001b[0m\u001b[0;34m)\u001b[0m\u001b[0;34m,\u001b[0m \u001b[0mfile\u001b[0m\u001b[0;34m=\u001b[0m\u001b[0msys\u001b[0m\u001b[0;34m.\u001b[0m\u001b[0mstderr\u001b[0m\u001b[0;34m)\u001b[0m\u001b[0;34m\u001b[0m\u001b[0;34m\u001b[0m\u001b[0m\n\u001b[0m\u001b[1;32m   2060\u001b[0m \u001b[0;34m\u001b[0m\u001b[0m\n\u001b[1;32m   2061\u001b[0m     \u001b[0;32mdef\u001b[0m \u001b[0m_showtraceback\u001b[0m\u001b[0;34m(\u001b[0m\u001b[0mself\u001b[0m\u001b[0;34m,\u001b[0m \u001b[0metype\u001b[0m\u001b[0;34m,\u001b[0m \u001b[0mevalue\u001b[0m\u001b[0;34m,\u001b[0m \u001b[0mstb\u001b[0m\u001b[0;34m)\u001b[0m\u001b[0;34m:\u001b[0m\u001b[0;34m\u001b[0m\u001b[0;34m\u001b[0m\u001b[0m\n",
      "\u001b[0;32m~/miniconda3/envs/TEST/lib/python3.7/site-packages/IPython/core/interactiveshell.py\u001b[0m in \u001b[0;36mget_exception_only\u001b[0;34m(self, exc_tuple)\u001b[0m\n\u001b[1;32m   2002\u001b[0m         \"\"\"\n\u001b[1;32m   2003\u001b[0m         \u001b[0metype\u001b[0m\u001b[0;34m,\u001b[0m \u001b[0mvalue\u001b[0m\u001b[0;34m,\u001b[0m \u001b[0mtb\u001b[0m \u001b[0;34m=\u001b[0m \u001b[0mself\u001b[0m\u001b[0;34m.\u001b[0m\u001b[0m_get_exc_info\u001b[0m\u001b[0;34m(\u001b[0m\u001b[0mexc_tuple\u001b[0m\u001b[0;34m)\u001b[0m\u001b[0;34m\u001b[0m\u001b[0;34m\u001b[0m\u001b[0m\n\u001b[0;32m-> 2004\u001b[0;31m         \u001b[0mmsg\u001b[0m \u001b[0;34m=\u001b[0m \u001b[0mtraceback\u001b[0m\u001b[0;34m.\u001b[0m\u001b[0mformat_exception_only\u001b[0m\u001b[0;34m(\u001b[0m\u001b[0metype\u001b[0m\u001b[0;34m,\u001b[0m \u001b[0mvalue\u001b[0m\u001b[0;34m)\u001b[0m\u001b[0;34m\u001b[0m\u001b[0;34m\u001b[0m\u001b[0m\n\u001b[0m\u001b[1;32m   2005\u001b[0m         \u001b[0;32mreturn\u001b[0m \u001b[0;34m''\u001b[0m\u001b[0;34m.\u001b[0m\u001b[0mjoin\u001b[0m\u001b[0;34m(\u001b[0m\u001b[0mmsg\u001b[0m\u001b[0;34m)\u001b[0m\u001b[0;34m\u001b[0m\u001b[0;34m\u001b[0m\u001b[0m\n\u001b[1;32m   2006\u001b[0m \u001b[0;34m\u001b[0m\u001b[0m\n",
      "\u001b[0;32m~/miniconda3/envs/TEST/lib/python3.7/traceback.py\u001b[0m in \u001b[0;36mformat_exception_only\u001b[0;34m(etype, value)\u001b[0m\n\u001b[1;32m    122\u001b[0m \u001b[0;34m\u001b[0m\u001b[0m\n\u001b[1;32m    123\u001b[0m \u001b[0;34m\u001b[0m\u001b[0m\n\u001b[0;32m--> 124\u001b[0;31m \u001b[0;32mdef\u001b[0m \u001b[0mformat_exception_only\u001b[0m\u001b[0;34m(\u001b[0m\u001b[0metype\u001b[0m\u001b[0;34m,\u001b[0m \u001b[0mvalue\u001b[0m\u001b[0;34m)\u001b[0m\u001b[0;34m:\u001b[0m\u001b[0;34m\u001b[0m\u001b[0;34m\u001b[0m\u001b[0m\n\u001b[0m\u001b[1;32m    125\u001b[0m     \"\"\"Format the exception part of a traceback.\n\u001b[1;32m    126\u001b[0m \u001b[0;34m\u001b[0m\u001b[0m\n",
      "\u001b[0;31mKeyboardInterrupt\u001b[0m: "
     ]
    },
    {
     "data": {
      "image/png": "[encoded data removed]",
      "text/plain": [
       "<Figure size 864x360 with 1 Axes>"
      ]
     },
     "metadata": {
      "needs_background": "light"
     },
     "output_type": "display_data"
    }
   ],
   "source": [
    "years = [\"1960\", \"1970\", \"1980\", \"1990\", \"2000\"]\n",
    "\n",
    "fig, ax = plt.subplots(figsize=(12, 5))\n",
    "\n",
    "# get the seasonality for an individual year\n",
    "for i, year in enumerate(years):\n",
    "    dates = pd.date_range(start=\"1/1/\"+year, end=\"12/31/\"+year, freq=\"10D\")\n",
    "    tnew = dates_to_idx(dates)[:, None]\n",
    "\n",
    "    print(\"Predicting year\", year)\n",
    "    mu, var = gp_seasonal.predict(tnew, point=mp, diag=True,\n",
    "                                  given={\"gp\": gp, \"X\": t.reshape(-1, 1), \"y\": y, \"noise\": cov_noise})\n",
    "    mu_pred = mu * std_co2\n",
    "\n",
    "    # plot mean\n",
    "    x = np.asarray((dates - dates[0]) / pd.Timedelta(30, \"D\")) + 1\n",
    "    ax.plot(x, mu_pred, lw=1, color=colors[i], label=year)\n",
    "    \n",
    "ax.legend(loc=\"bottom left\")"
   ]
  },
  {
   "cell_type": "code",
   "execution_count": null,
   "metadata": {},
   "outputs": [],
   "source": []
  },
  {
   "cell_type": "code",
   "execution_count": null,
   "metadata": {},
   "outputs": [],
   "source": []
  },
  {
   "cell_type": "code",
   "execution_count": null,
   "metadata": {},
   "outputs": [],
   "source": []
  },
  {
   "cell_type": "markdown",
   "metadata": {},
   "source": [
    "# Why GPs?\n",
    "- finding an unknown variable in the space of continuous functions\n",
    "- draw from a multivariate normal distribution that is parameterized by the mean function, 𝑚(𝑥), and the covariance function, 𝑘(𝑥,𝑥′)\n",
    "- "
   ]
  },
  {
   "cell_type": "code",
   "execution_count": null,
   "metadata": {},
   "outputs": [],
   "source": []
  }
 ],
 "metadata": {
  "kernelspec": {
   "display_name": "TEST",
   "language": "python",
   "name": "test"
  },
  "language_info": {
   "codemirror_mode": {
    "name": "ipython",
    "version": 3
   },
   "file_extension": ".py",
   "mimetype": "text/x-python",
   "name": "python",
   "nbconvert_exporter": "python",
   "pygments_lexer": "ipython3",
   "version": "3.7.3"
  }
 },
 "nbformat": 4,
 "nbformat_minor": 2
}
